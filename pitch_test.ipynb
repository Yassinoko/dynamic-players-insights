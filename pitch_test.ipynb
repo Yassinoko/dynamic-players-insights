{
 "cells": [
  {
   "cell_type": "markdown",
   "id": "d2b856fd",
   "metadata": {},
   "source": [
    "# Let's hope it works"
   ]
  },
  {
   "cell_type": "markdown",
   "id": "1ea7acf6",
   "metadata": {},
   "source": [
    "## Loading the faces data"
   ]
  },
  {
   "cell_type": "code",
   "execution_count": 43,
   "id": "c6cdc5c6-ef58-4fdf-9df4-5fc5feae3d44",
   "metadata": {
    "collapsed": true,
    "jupyter": {
     "outputs_hidden": true
    }
   },
   "outputs": [
    {
     "name": "stdout",
     "output_type": "stream",
     "text": [
      "Collecting selenium\n",
      "  Downloading selenium-4.15.2-py3-none-any.whl.metadata (6.9 kB)\n",
      "Requirement already satisfied: urllib3<3,>=1.26 in /Users/niknmirosh/.pyenv/versions/3.10.6/envs/dynamic-players-insights/lib/python3.10/site-packages (from urllib3[socks]<3,>=1.26->selenium) (2.1.0)\n",
      "Collecting trio~=0.17 (from selenium)\n",
      "  Downloading trio-0.23.1-py3-none-any.whl.metadata (4.9 kB)\n",
      "Collecting trio-websocket~=0.9 (from selenium)\n",
      "  Downloading trio_websocket-0.11.1-py3-none-any.whl.metadata (4.7 kB)\n",
      "Requirement already satisfied: certifi>=2021.10.8 in /Users/niknmirosh/.pyenv/versions/3.10.6/envs/dynamic-players-insights/lib/python3.10/site-packages (from selenium) (2023.11.17)\n",
      "Requirement already satisfied: attrs>=20.1.0 in /Users/niknmirosh/.pyenv/versions/3.10.6/envs/dynamic-players-insights/lib/python3.10/site-packages (from trio~=0.17->selenium) (23.1.0)\n",
      "Collecting sortedcontainers (from trio~=0.17->selenium)\n",
      "  Downloading sortedcontainers-2.4.0-py2.py3-none-any.whl (29 kB)\n",
      "Requirement already satisfied: idna in /Users/niknmirosh/.pyenv/versions/3.10.6/envs/dynamic-players-insights/lib/python3.10/site-packages (from trio~=0.17->selenium) (3.4)\n",
      "Collecting outcome (from trio~=0.17->selenium)\n",
      "  Downloading outcome-1.3.0.post0-py2.py3-none-any.whl.metadata (2.6 kB)\n",
      "Requirement already satisfied: sniffio>=1.3.0 in /Users/niknmirosh/.pyenv/versions/3.10.6/envs/dynamic-players-insights/lib/python3.10/site-packages (from trio~=0.17->selenium) (1.3.0)\n",
      "Requirement already satisfied: exceptiongroup>=1.0.0rc9 in /Users/niknmirosh/.pyenv/versions/3.10.6/envs/dynamic-players-insights/lib/python3.10/site-packages (from trio~=0.17->selenium) (1.1.3)\n",
      "Collecting wsproto>=0.14 (from trio-websocket~=0.9->selenium)\n",
      "  Downloading wsproto-1.2.0-py3-none-any.whl (24 kB)\n",
      "Collecting pysocks!=1.5.7,<2.0,>=1.5.6 (from urllib3[socks]<3,>=1.26->selenium)\n",
      "  Downloading PySocks-1.7.1-py3-none-any.whl (16 kB)\n",
      "Collecting h11<1,>=0.9.0 (from wsproto>=0.14->trio-websocket~=0.9->selenium)\n",
      "  Using cached h11-0.14.0-py3-none-any.whl (58 kB)\n",
      "Downloading selenium-4.15.2-py3-none-any.whl (10.2 MB)\n",
      "\u001b[2K   \u001b[90m━━━━━━━━━━━━━━━━━━━━━━━━━━━━━━━━━━━━━━━━\u001b[0m \u001b[32m10.2/10.2 MB\u001b[0m \u001b[31m27.0 MB/s\u001b[0m eta \u001b[36m0:00:00\u001b[0m00:01\u001b[0m0:01\u001b[0m\n",
      "\u001b[?25hDownloading trio-0.23.1-py3-none-any.whl (448 kB)\n",
      "\u001b[2K   \u001b[90m━━━━━━━━━━━━━━━━━━━━━━━━━━━━━━━━━━━━━━━━\u001b[0m \u001b[32m448.3/448.3 kB\u001b[0m \u001b[31m32.6 MB/s\u001b[0m eta \u001b[36m0:00:00\u001b[0m\n",
      "\u001b[?25hDownloading trio_websocket-0.11.1-py3-none-any.whl (17 kB)\n",
      "Downloading outcome-1.3.0.post0-py2.py3-none-any.whl (10 kB)\n",
      "Installing collected packages: sortedcontainers, pysocks, outcome, h11, wsproto, trio, trio-websocket, selenium\n",
      "Successfully installed h11-0.14.0 outcome-1.3.0.post0 pysocks-1.7.1 selenium-4.15.2 sortedcontainers-2.4.0 trio-0.23.1 trio-websocket-0.11.1 wsproto-1.2.0\n",
      "Note: you may need to restart the kernel to use updated packages.\n"
     ]
    }
   ],
   "source": [
    "pip install selenium"
   ]
  },
  {
   "cell_type": "code",
   "execution_count": 113,
   "id": "390c5f46",
   "metadata": {},
   "outputs": [],
   "source": [
    "import os\n",
    "import requests\n",
    "import time\n",
    "from bs4 import BeautifulSoup\n",
    "from urllib.parse import quote\n",
    "from selenium import webdriver"
   ]
  },
  {
   "cell_type": "code",
   "execution_count": 112,
   "id": "7b5ef634",
   "metadata": {},
   "outputs": [
    {
     "name": "stdin",
     "output_type": "stream",
     "text": [
      "Enter the football player's name:  Messi\n"
     ]
    },
    {
     "name": "stdout",
     "output_type": "stream",
     "text": [
      "Downloaded 30 images of Messi from Getty Images.\n"
     ]
    }
   ],
   "source": [
    "# OPTION 1\n",
    "\n",
    "def download_images(player_name):\n",
    "    # Create a directory to save the images\n",
    "    player_folder_path = f\"./raw_data/faces/{player_name}\"\n",
    "    os.makedirs(player_folder_path, exist_ok=True)\n",
    "\n",
    "    # Define the URL for Getty Images\n",
    "    encoded_player_name = quote(player_name)\n",
    "    url = f\"https://www.gettyimages.be/photos/{encoded_player_name}?assettype=image&compositions=headshot&family=editorial&numberofpeople=one&sort=best\"\n",
    "\n",
    "    # Configure the Chrome driver (Make sure you have the correct chromedriver installed)\n",
    "    driver = webdriver.Chrome()\n",
    "\n",
    "    try:\n",
    "        # Access the URL\n",
    "        driver.get(url)\n",
    "        time.sleep(5)  # Allow time for the page to load\n",
    "\n",
    "        # Extract image URLs\n",
    "        image_elements = driver.find_elements(\"xpath\", '//img[contains(@src, \"https://media.gettyimages.com\")]')\n",
    "\n",
    "        # Download and save 30 images\n",
    "        count = 0\n",
    "        for img in image_elements:\n",
    "            img_url = img.get_attribute(\"src\")\n",
    "            img_data = requests.get(img_url).content\n",
    "            with open(f\"{player_folder_path}/{player_name}_{count}.jpg\", \"wb\") as handler:\n",
    "                handler.write(img_data)\n",
    "            count += 1\n",
    "            if count == 30:\n",
    "                break\n",
    "\n",
    "        print(f\"Downloaded {count} images of {player_name} from Getty Images.\")\n",
    "\n",
    "    except Exception as e:\n",
    "        print(f\"Failed to retrieve images of {player_name} from Getty Images. Error: {e}\")\n",
    "\n",
    "    finally:\n",
    "        # Close the browser\n",
    "        driver.quit()\n",
    "\n",
    "# Example usage\n",
    "# player_name = input(\"Enter the football player's name: \")\n",
    "# download_images(player_name)"
   ]
  },
  {
   "cell_type": "code",
   "execution_count": null,
   "id": "d078c8ed",
   "metadata": {},
   "outputs": [],
   "source": [
    "#players = [\"Neymar\", \"Erling Haaland\", \"Bruno Fernandes\", \"Mohamed Salah\", \"Harry Kane\", \"Son Heung-min\", \"Karim Benzema\", \"Gareth Bale\", \"Firminho\", \"Sadio Mane\"]\n",
    "\n",
    "#for player in players :\n",
    "    #download_images(player)"
   ]
  },
  {
   "cell_type": "markdown",
   "id": "f7c05133",
   "metadata": {},
   "source": [
    "## Loading the stats data"
   ]
  },
  {
   "cell_type": "code",
   "execution_count": 2,
   "id": "9b95fae8",
   "metadata": {},
   "outputs": [],
   "source": [
    "import pandas as pd\n",
    "import numpy as np\n",
    "import seaborn as sns\n",
    "import matplotlib.pyplot as plt"
   ]
  },
  {
   "cell_type": "markdown",
   "id": "36555d21-8369-44d7-aad6-c56271dc124d",
   "metadata": {},
   "source": [
    "### Attacking"
   ]
  },
  {
   "cell_type": "code",
   "execution_count": 5,
   "id": "cdafefd0",
   "metadata": {},
   "outputs": [],
   "source": [
    "attacking = pd.read_csv(\"data/stats/attacking.csv\")"
   ]
  },
  {
   "cell_type": "code",
   "execution_count": 6,
   "id": "cccd8853",
   "metadata": {
    "scrolled": true
   },
   "outputs": [
    {
     "data": {
      "text/html": [
       "<div>\n",
       "<style scoped>\n",
       "    .dataframe tbody tr th:only-of-type {\n",
       "        vertical-align: middle;\n",
       "    }\n",
       "\n",
       "    .dataframe tbody tr th {\n",
       "        vertical-align: top;\n",
       "    }\n",
       "\n",
       "    .dataframe thead th {\n",
       "        text-align: right;\n",
       "    }\n",
       "</style>\n",
       "<table border=\"1\" class=\"dataframe\">\n",
       "  <thead>\n",
       "    <tr style=\"text-align: right;\">\n",
       "      <th></th>\n",
       "      <th>player_name</th>\n",
       "      <th>club</th>\n",
       "      <th>position</th>\n",
       "      <th>minutes_played</th>\n",
       "      <th>match_played</th>\n",
       "      <th>goals</th>\n",
       "      <th>assists</th>\n",
       "      <th>distance_covered</th>\n",
       "    </tr>\n",
       "  </thead>\n",
       "  <tbody>\n",
       "    <tr>\n",
       "      <th>0</th>\n",
       "      <td>Courtois</td>\n",
       "      <td>Real Madrid</td>\n",
       "      <td>Goalkeeper</td>\n",
       "      <td>1230</td>\n",
       "      <td>13</td>\n",
       "      <td>0</td>\n",
       "      <td>0</td>\n",
       "      <td>64.2</td>\n",
       "    </tr>\n",
       "    <tr>\n",
       "      <th>1</th>\n",
       "      <td>Vinícius Júnior</td>\n",
       "      <td>Real Madrid</td>\n",
       "      <td>Forward</td>\n",
       "      <td>1199</td>\n",
       "      <td>13</td>\n",
       "      <td>4</td>\n",
       "      <td>6</td>\n",
       "      <td>133.0</td>\n",
       "    </tr>\n",
       "    <tr>\n",
       "      <th>2</th>\n",
       "      <td>Benzema</td>\n",
       "      <td>Real Madrid</td>\n",
       "      <td>Forward</td>\n",
       "      <td>1106</td>\n",
       "      <td>12</td>\n",
       "      <td>15</td>\n",
       "      <td>1</td>\n",
       "      <td>121.5</td>\n",
       "    </tr>\n",
       "    <tr>\n",
       "      <th>3</th>\n",
       "      <td>Modrić</td>\n",
       "      <td>Real Madrid</td>\n",
       "      <td>Midfielder</td>\n",
       "      <td>1077</td>\n",
       "      <td>13</td>\n",
       "      <td>0</td>\n",
       "      <td>4</td>\n",
       "      <td>124.5</td>\n",
       "    </tr>\n",
       "    <tr>\n",
       "      <th>4</th>\n",
       "      <td>Éder Militão</td>\n",
       "      <td>Real Madrid</td>\n",
       "      <td>Defender</td>\n",
       "      <td>1076</td>\n",
       "      <td>12</td>\n",
       "      <td>0</td>\n",
       "      <td>0</td>\n",
       "      <td>110.4</td>\n",
       "    </tr>\n",
       "  </tbody>\n",
       "</table>\n",
       "</div>"
      ],
      "text/plain": [
       "       player_name         club    position  minutes_played  match_played  \\\n",
       "0         Courtois  Real Madrid  Goalkeeper            1230            13   \n",
       "1  Vinícius Júnior  Real Madrid     Forward            1199            13   \n",
       "2          Benzema  Real Madrid     Forward            1106            12   \n",
       "3           Modrić  Real Madrid  Midfielder            1077            13   \n",
       "4     Éder Militão  Real Madrid    Defender            1076            12   \n",
       "\n",
       "   goals  assists distance_covered  \n",
       "0      0        0             64.2  \n",
       "1      4        6            133.0  \n",
       "2     15        1            121.5  \n",
       "3      0        4            124.5  \n",
       "4      0        0            110.4  "
      ]
     },
     "execution_count": 6,
     "metadata": {},
     "output_type": "execute_result"
    }
   ],
   "source": [
    "attacking.head()"
   ]
  },
  {
   "cell_type": "code",
   "execution_count": 7,
   "id": "d45d9ecb",
   "metadata": {},
   "outputs": [
    {
     "name": "stdout",
     "output_type": "stream",
     "text": [
      "The shape is : (176, 9)\n",
      "The number of unique players is : 176\n"
     ]
    }
   ],
   "source": [
    "print(f\"The shape is : {attacking.shape}\")\n",
    "print(f\"The number of unique players is : {attacking['player_name'].nunique()}\")"
   ]
  },
  {
   "cell_type": "code",
   "execution_count": 9,
   "id": "357c00da",
   "metadata": {},
   "outputs": [
    {
     "name": "stdout",
     "output_type": "stream",
     "text": [
      "The number of unique teams is : 32\n"
     ]
    }
   ],
   "source": [
    "print(f\"The number of unique teams is : {attacking['club'].nunique()}\")"
   ]
  },
  {
   "cell_type": "markdown",
   "id": "71500cf2-cf2c-4b69-a541-8ea85ac6cbc0",
   "metadata": {},
   "source": [
    "### Total"
   ]
  },
  {
   "cell_type": "code",
   "execution_count": 7,
   "id": "70e96d7e-923d-43c4-8ad9-6b470d29c369",
   "metadata": {},
   "outputs": [],
   "source": [
    "total = pd.read_csv(\"raw_data/stats/key_stats.csv\")"
   ]
  },
  {
   "cell_type": "code",
   "execution_count": 35,
   "id": "579a4d9d-e6d7-4232-9f2e-0a1f112f73ff",
   "metadata": {},
   "outputs": [
    {
     "data": {
      "text/plain": [
       "array(['Real Madrid', 'Liverpool', 'Villarreal', 'Man. City', 'Benfica',\n",
       "       'Atlético', 'Bayern', 'Chelsea', 'LOSC', 'Inter', 'Salzburg',\n",
       "       'Ajax', 'Paris', 'Sporting CP', 'Juventus', 'Man. United',\n",
       "       'Club Brugge', 'Sheriff', 'Wolfsburg', 'Dynamo Kyiv', 'Sevilla',\n",
       "       'Shakhtar Donetsk', 'Zenit', 'Dortmund', 'Atalanta', 'Porto',\n",
       "       'Barcelona', 'Young Boys', 'Leipzig', 'Malmö', 'Milan', 'Beşiktaş'],\n",
       "      dtype=object)"
      ]
     },
     "execution_count": 35,
     "metadata": {},
     "output_type": "execute_result"
    }
   ],
   "source": [
    "total['club'].unique()"
   ]
  },
  {
   "cell_type": "code",
   "execution_count": 36,
   "id": "84285907-7339-41c9-ac59-be34e363bdd6",
   "metadata": {},
   "outputs": [],
   "source": [
    "real_condition = total['club'] == 'Real Madrid'\n",
    "mancity_condition = total['club'] == 'Man. City'"
   ]
  },
  {
   "cell_type": "code",
   "execution_count": 39,
   "id": "5ee3fc84-1ef4-4ef0-beaa-01cee649a3bd",
   "metadata": {},
   "outputs": [
    {
     "data": {
      "text/plain": [
       "0           Courtois\n",
       "1    Vinícius Júnior\n",
       "2            Benzema\n",
       "3             Modrić\n",
       "4       Éder Militão\n",
       "Name: player_name, dtype: object"
      ]
     },
     "execution_count": 39,
     "metadata": {},
     "output_type": "execute_result"
    }
   ],
   "source": [
    "real_players = total[real_condition]['player_name']\n",
    "real_players.head()"
   ]
  },
  {
   "cell_type": "code",
   "execution_count": 38,
   "id": "49114bd2-d71c-4d79-bae8-2762c139031c",
   "metadata": {},
   "outputs": [
    {
     "data": {
      "text/plain": [
       "58           Ederson\n",
       "59            Mahrez\n",
       "65    Bernardo Silva\n",
       "68             Rodri\n",
       "69      João Cancelo\n",
       "Name: player_name, dtype: object"
      ]
     },
     "execution_count": 38,
     "metadata": {},
     "output_type": "execute_result"
    }
   ],
   "source": [
    "mancity_players = total[mancity_condition]['player_name']\n",
    "mancity_players.head()"
   ]
  },
  {
   "cell_type": "code",
   "execution_count": 25,
   "id": "ef791957-62cd-4edd-a672-651c187f01bc",
   "metadata": {
    "collapsed": true,
    "jupyter": {
     "outputs_hidden": true
    }
   },
   "outputs": [
    {
     "data": {
      "text/plain": [
       "array(['Courtois', 'Vinícius Júnior', 'Benzema', 'Modrić', 'Éder Militão',\n",
       "       'Alaba', 'Carvajal', 'Casemiro', 'Kroos', 'Mendy', 'Valverde',\n",
       "       'Nacho', 'Rodrygo', 'Lucas Vázquez', 'Camavinga', 'Asensio',\n",
       "       'Jović', 'Marcelo', 'E. Hazard', 'Miguel Gutiérrez', 'Ceballos',\n",
       "       'Mariano Díaz', 'Vallejo', 'Bale', 'Blanco', 'Alisson Becker',\n",
       "       'Salah', 'Fabinho', 'Robertson', 'Mané', 'Van Dijk',\n",
       "       'Alexander-Arnold', 'Konaté', 'Henderson', 'Matip',\n",
       "       'Thiago Alcántara', 'Diogo Jota', 'Keïta', 'Luis Díaz', 'Tsimikas',\n",
       "       'Firmino', 'Oxlade-Chamberlain', 'Gomez', 'Minamino', 'Milner',\n",
       "       'Origi', 'Jones', 'N. Williams', 'Morton', 'Phillips', 'Elliott',\n",
       "       'Woltman', 'Bradley', 'Pau Torres', 'Rulli', 'Parejo', 'Capoue',\n",
       "       'Albiol', 'Ederson', 'Mahrez', 'Danjuma', 'Vertonghen',\n",
       "       'Vlachodimos', 'Oblak', 'Foyth', 'Bernardo Silva', 'Lewandowski',\n",
       "       'Grimaldo', 'Rodri', 'João Cancelo', 'Rüdiger', 'Reinildo',\n",
       "       'Neuer', 'Weigl', 'Otamendi', 'Sané', 'Laporte', 'Müller',\n",
       "       'Pavard', 'Thiago Silva', 'De Bruyne', 'Škriniar', 'Kristensen',\n",
       "       'Martínez', 'Marquinhos', 'Fonte', 'Köhn', 'Handanovič', 'Hakimi',\n",
       "       'Ulmer', 'Gilberto', 'Aaronson', 'Rafa Silva', 'Gravenberch',\n",
       "       'Kimmich', 'Marcos Llorente', 'Azpilicueta', 'David', 'Mbappé',\n",
       "       'Havertz', 'Camara', 'Haller', 'Bastoni', 'Koke', 'Rúben Dias',\n",
       "       'Mazraoui', 'Gündoğan', 'Upamecano', 'Foden', 'Seiwald',\n",
       "       'Estupiñán', 'Stones', 'Brozović', 'Coman', 'Messi', 'Tadić',\n",
       "       'André', 'Kimpembe', 'Adán', 'Szczęsny', 'De Gea', 'Berghuis',\n",
       "       'De Ligt', 'Núñez', 'Matheus Reis', 'Ronaldo', 'Adeyemi',\n",
       "       'Christensen', 'Zeki Çelik', 'Giménez', 'Paulinho', 'Sterling',\n",
       "       'Nuno Mendes', 'Bonucci', 'Kondogbia', 'De Paul', 'Antony',\n",
       "       'Walker', 'João Félix', 'Wöber', 'Blind', 'L. Hernández',\n",
       "       'J. Timber', 'Jorginho', 'Gonçalo Inácio', 'Álvarez',\n",
       "       'Alex Sandro', 'Alonso', 'Everton', 'Džeko', 'Vanaken', 'S. Thill',\n",
       "       'Coates', 'Arnold', 'Cristiano', 'Zabarnyi', 'Fernando',\n",
       "       'Fernando Costanza', 'Dodô', 'Barrios', 'Lacroix', 'Hendry',\n",
       "       'Arboleda', 'Dulanto', 'Bounou', 'Kobel', 'Mignolet', 'Musso',\n",
       "       'Pasveer', 'Grbić', 'Diogo Costa', 'Ter Stegen', 'Locatelli',\n",
       "       'Diego Carlos', 'Mount', 'Rabiot', 'Sydorchuk', 'Maguire',\n",
       "       'João Palhinha', 'Tiago Djaló', 'Moumi Ngamaleu', 'Perišić',\n",
       "       'Nkunku', 'Traore', 'Burak Yılmaz', 'Pedro Porro', 'Lang',\n",
       "       'Clinton Mata', 'Freuler', 'Depay', 'Gerard Moreno', 'Lo Celso',\n",
       "       'F. de Jong', 'Morata', 'Bruno Fernandes', 'Griezmann', 'Sučić',\n",
       "       'Süle', 'Yaremchuk', 'Sarabia', 'Matheus Nunes', 'James',\n",
       "       'Aebischer', 'Bellingham', 'Zinchenko', 'De Ketelaere', 'Čolak',\n",
       "       'Reus', 'Rakitskyy', 'Barella', 'Innocent', 'Taremi', 'João Mário',\n",
       "       'Addo', 'Tsygankov', 'Elia', 'De Vrij', 'Sergio Busquets',\n",
       "       'Shaparenko', 'Mukiele', 'Wendel', 'Meunier', 'De Roon', 'Nsoki',\n",
       "       'Renan Lodi', 'Davies', 'Maycon', 'Carrasco', 'Cuadrado', 'Felipe',\n",
       "       'Witsel', 'Neymar', 'Bamba', 'Dumfries', 'Goretzka', 'Zapata',\n",
       "       'Coquelin', 'Ocampos', 'Lauper', 'Grealish', 'Claudinho', 'Otávio',\n",
       "       'Feddal', 'Palomino', 'T. Hernández', 'Danilo', 'Mykolenko',\n",
       "       'Syrota', 'Koundé', 'Savić', 'Akanji', 'L. Nielsen', 'Marlon',\n",
       "       'Mbemba', 'Casteels', 'Ersin Destanoğlu', 'Donnarumma', 'Gulácsi',\n",
       "       'Bushchan', 'Athanasiadis', 'Musiala', 'Brorsson', 'Ziyech',\n",
       "       'Saelemaekers', 'Douglas Santos', 'Chistiakov', 'Souza', 'Berget',\n",
       "       'Onguéné', 'Buyalskiy', 'Xeka', 'Mæhle', 'Garcia', 'Malcom',\n",
       "       'Fred', 'Angeliño', 'Pedraza', 'Pino', 'Verratti', 'Guilavogui',\n",
       "       'Kanté', 'Kovačić', 'Lindelöf', 'Hermoso', 'C. Martins Pereira',\n",
       "       'Hakan Çalhanoğlu', 'Wan-Bissaka', 'Tomori', 'Botman', 'Rits',\n",
       "       'Baku', 'Ahmedhodžić', 'André Silva', 'Vidal', 'Balanta',\n",
       "       'Renato Sanches', 'Zappacosta', 'Laimer', 'Kolovos', 'Rosier',\n",
       "       'Correa', 'Gueye', 'McTominay', 'Gavi', 'Weghorst', 'Shaw',\n",
       "       'Brandt', 'Sancho', 'Piqué', 'Malen', 'Romagnoli', 'Gnabry',\n",
       "       'Zaidu', 'McKennie', 'Hefti', 'Forsberg', 'Batshuayi', 'Bentancur',\n",
       "       'Ricardo Esgaio', 'Acuña', 'Lemar', 'Bennacer', 'De Pena',\n",
       "       'Jordi Alba', 'Tetê', 'Demiral', 'Gonçalo Ramos', 'Luís Neto',\n",
       "       'Pulišić', 'Ronald Araújo', 'Kędziora', 'Roussillon', 'Tolói',\n",
       "       'Matviyenko', 'Kritsyuk', 'Loftus-Cheek', 'Hummels', 'Castañeda',\n",
       "       'Klostermann', 'Birmančević', 'Ismaily', 'Larin', 'Varane',\n",
       "       'Jesus', 'Brahim Díaz', 'Pepe', 'Fernandinho', 'Luis Suárez',\n",
       "       'Pogba', 'Okafor', 'Ghezzal', 'Lenglet', 'Taarabt', 'Pedrinho',\n",
       "       'Siebatcheu', 'Vranckx', 'Chiesa', 'Gvardiol', 'Tonali',\n",
       "       'Jesús Navas', 'Sobol', 'Brooks', 'Trigueros', 'Pedro Gonçalves',\n",
       "       'Mbabu', 'Solet', 'Christiansen', 'Jordán', 'Herrera', 'Garmash',\n",
       "       'Aké', 'L. Nmecha', 'Solomon', 'Gómez', 'Kessié', 'Lukaku',\n",
       "       'Grujić', 'Paredes', 'Calabria', 'Orbán', 'Lovren', 'Dahlin',\n",
       "       'Evanilson', 'Welinton', 'Bruno', 'Moreno', 'Montero', 'Vrsaljko',\n",
       "       'Greenwood', 'Azmoun', 'Malinovskyi', 'Sérgio Oliveira',\n",
       "       'Karavaev', 'Sowah', 'Ikoné', 'Simakan', 'Lukebakio',\n",
       "       'Rafael Leão', 'Sutormin', 'Alex Telles', 'Bernardeschi', 'Adams',\n",
       "       'Hudson-Odoi', 'Uribe', 'De Sciglio', 'M. Olsson', 'Dimarco',\n",
       "       'Capaldo', 'Peña', 'Dzyuba', 'Rakitić', 'Larsson', 'Chukwueze',\n",
       "       'Rakip', 'Rieder', 'Rafa Mir', 'Kampl', 'Verissimo', \"N'Sakala\",\n",
       "       'Kjær', 'Faivre', 'Tătăruşanu', 'Maignan', 'Trubin', 'Navas',\n",
       "       'Von Ballmoos', 'Fassnacht', 'Alan Patrick', 'Pyatov', 'Arthur',\n",
       "       'Kenan Karaman', 'Wijnaldum', 'Giroud', 'Pjanic', 'Mehmet Topal',\n",
       "       'Di María', 'Djimsiti', 'Dia', 'Steffen', 'Onana', 'Rashford',\n",
       "       'Kuzyaev', 'Marcos Antônio', 'Dybala', 'Weah', 'Meraş', 'Krunić',\n",
       "       'Iličić', 'Nico González', 'Eric García', 'Werner', 'Gudmundsson',\n",
       "       'Sierro', 'André Almeida', 'Šeško', 'Tolisso', 'Dalot', 'Klaassen',\n",
       "       'Adamu', 'Dest', 'Suso', 'Stepanenko', 'Diawara', 'Moi Gómez',\n",
       "       'Rieks', 'Pašalić', 'Trippier', 'Mingueza', 'Bozdoğan',\n",
       "       'Nuno Santos', 'Vitinha', 'Kalulu', 'Dahoud', 'Corona', 'Nianzou',\n",
       "       'Pessina', 'Koopmeiners', 'Szoboszlai', 'Marlos', 'Ugarte',\n",
       "       'Yakhshiboev', 'Munir', 'Van de Beek', 'Bornauw', 'Neres',\n",
       "       'Haaland', 'Bruno Tabata', 'Delaney', 'Darmian', 'Schulz', 'Matić',\n",
       "       'Gerhardt', 'Kryvtsov', 'Necip Uysal', 'Chilwell', 'Moisander',\n",
       "       'Montiel', 'Alex Teixeira', 'Haidara', 'Guerreiro', 'Vlahović',\n",
       "       'Morato', 'Bürgy', 'Vida', 'Bailly', 'Leo Jardim', 'M. Kerzhakov',\n",
       "       'Mudryk', 'L. de Jong', 'Rugani', 'Chalobah', 'Elanga',\n",
       "       'Paulo Otávio', 'Wolf', 'Pongračić', 'Sergi Roberto', 'Kean',\n",
       "       'Gomes', 'Óliver Torres', 'Lefort', 'Diallo', 'Ricca',\n",
       "       'Tiago Tomás', 'Van Der Brempt', 'Tymchyk', 'Ibrahimović',\n",
       "       'Saúl Ñíguez', 'Pedri', 'Pizzi', 'Vormer', 'Hutchinson', 'Yansané',\n",
       "       'Alexis Sánchez', 'Meite', 'Fábio Cardoso', 'Fati', 'Mostovoy',\n",
       "       'Poulsen', \"D'Ambrosio\", 'Schuurs', 'Toni Martínez',\n",
       "       'Matheus Cunha', 'T. Hazard', 'Tagliafico', 'Draxler',\n",
       "       'Rıdvan Yılmaz', 'Sabitzer', 'Daniel Bragança', 'Diogo Gonçalves',\n",
       "       'Wendell', 'Mechele', 'Muriel', 'Aurier', 'Reinier', 'Marcano',\n",
       "       'Sarr', 'Rekik', 'Vecino', 'Lewicki', 'Dembélé', 'Lamela',\n",
       "       'Waldschmidt', 'Rebić', 'Lingard', 'Abubakari', 'Brobbey',\n",
       "       'Messias Junior', 'Lázaro', 'Maceiras', 'Salih Uçan', 'Coutinho',\n",
       "       'Erokhin', 'Shkurin', 'Slimani', 'Demir', 'Gosens', 'Traoré',\n",
       "       'Tigges', 'Ranocchia', 'Nikolov', 'Zagadou', 'Mata', 'Barkley',\n",
       "       'Andriyevskiy', 'Vitinho', 'Mario Gaspar', 'Verbič', 'Ballo',\n",
       "       'Philipp', 'Hateboer', \"N'Koudou\", 'Egan-Riley', 'Shabanov',\n",
       "       'Bondar', 'Lustenberger', 'Serdar Saatçı', 'Vitão', 'Ulreich',\n",
       "       'Pervan', 'Kepa', 'João Virginia', 'Günok', 'Celeadnic', 'Boyko',\n",
       "       'Perin', 'Nanasi', 'Florenzi', 'Olmo', 'Fábio Vieira',\n",
       "       'Bondarenko', 'Piątkowski', 'Nalić', 'Korniienko', 'En-Nesyri',\n",
       "       'Supryaha', 'De Winter', 'Kulusevski', 'Augustinsson', 'Radeljić',\n",
       "       'Jovane Cabral', 'Marc Roca', 'Kanga', 'Cavani', 'Gökhan Töre',\n",
       "       'Emre Can', 'Alcácer', 'Esteves', 'Rensch', 'Ferran Torres',\n",
       "       'Kehrer', 'Krugovoi', 'Dost', 'Martial', 'Gagliardini',\n",
       "       'Rúben Vinagre', 'Mambimbi', 'Moriba', 'Passlack', 'Bakayoko',\n",
       "       'Pezzella', 'Sudakov', 'Sandra', 'Mbamba-Muanda', 'Shepeliev',\n",
       "       'Richards', 'Julien', 'Oğuzhan Özyakup', 'Daramy', 'Henrichs',\n",
       "       'Choupo-Moting', 'Yusuf Yazıcı', 'Icardi', 'McAtee', 'Lovato',\n",
       "       'Palmer', 'Paulo Bernardo', 'Kjærgaard', 'Taylor',\n",
       "       'Francisco Conceição', 'F. Nmecha', 'Pepê', 'Al. Miranchuk',\n",
       "       'Edwards', 'Radonjić', 'Mengi', 'Wesley', 'Mandi', 'Kudus',\n",
       "       'Novoa', 'Lihadji', 'Bernardo', 'Tijani', 'Ben Arfa',\n",
       "       'Óscar Rodríguez', 'Shoretire', 'Heaton', 'Stanišić', 'Knauff',\n",
       "       'Maldini', 'Moukoko', 'Iván Romero', 'Flávio Nazinho', 'Balde',\n",
       "       'Tillman', 'Ricard Puig', 'Berkay Vardar', 'Carson',\n",
       "       'Eric Ramirez', 'Cojocaru', 'Javi Serrano', 'Agüero', 'Ramsey',\n",
       "       'Kravtsov', 'Bradarić', 'Ozdoev', 'Bruno Costa', 'Raba', 'Iborra',\n",
       "       'Bonnah', 'Sensi', 'Lednev', 'Zhegrova', 'Seferović', 'Zakaria',\n",
       "       'Dário Essugo', 'Spielmann', 'Izquierdo', 'Chiellini',\n",
       "       'Dina Ebimbe', 'Sulejmani', 'Delap', 'Mbete', 'Kolarov', 'Šimić',\n",
       "       'Guindo', 'Dentinho', 'Shevchenko', 'Maier', 'Luca Pellegrini',\n",
       "       'Kuznetsov', 'Eile', 'Ginczek', 'Savage', 'Iqbal', 'Da Graca',\n",
       "       'Miretti', 'Gil Dias', 'Rodrigo Ribeiro', 'Cojocari', 'Maouassa',\n",
       "       'Zesiger'], dtype=object)"
      ]
     },
     "execution_count": 25,
     "metadata": {},
     "output_type": "execute_result"
    }
   ],
   "source": [
    "total['player_name']"
   ]
  },
  {
   "cell_type": "code",
   "execution_count": null,
   "id": "c23df7ff-98f3-4d9c-aba5-8471b4636039",
   "metadata": {},
   "outputs": [],
   "source": []
  },
  {
   "cell_type": "markdown",
   "id": "4b1b2f1a",
   "metadata": {},
   "source": [
    "## Let's create the interface now"
   ]
  },
  {
   "cell_type": "markdown",
   "id": "ff66fa88",
   "metadata": {},
   "source": [
    "### Creating the database"
   ]
  },
  {
   "cell_type": "code",
   "execution_count": 8,
   "id": "b1f5cd89",
   "metadata": {},
   "outputs": [],
   "source": [
    "import sqlite3\n",
    "import glob"
   ]
  },
  {
   "cell_type": "code",
   "execution_count": 9,
   "id": "feffa58b",
   "metadata": {},
   "outputs": [],
   "source": [
    "# Define the path to your CSV files\n",
    "csv_files = glob.glob('data/stats/*')\n",
    "\n",
    "# Create an SQLite database connection\n",
    "conn = sqlite3.connect('football_analysis.db')\n",
    "\n",
    "# Iterate through each CSV file and write it to the SQLite database\n",
    "for file in csv_files:\n",
    "    table_name = file.split('/')[-1].split('.')[0]  # Extract table name from the filename\n",
    "    df = pd.read_csv(file)\n",
    "    df.to_sql(table_name, conn, index=False, if_exists='replace')  # Replace if the table already exists\n",
    "\n",
    "# Close the connection to the SQLite database\n",
    "conn.close()"
   ]
  },
  {
   "cell_type": "markdown",
   "id": "9dfae263",
   "metadata": {},
   "source": [
    "### Loading the queries"
   ]
  },
  {
   "cell_type": "code",
   "execution_count": 10,
   "id": "9628283f",
   "metadata": {},
   "outputs": [],
   "source": [
    "conn = sqlite3.connect('football_analysis.sqlite')\n",
    "c = conn.cursor()"
   ]
  },
  {
   "cell_type": "code",
   "execution_count": 11,
   "id": "f68e4860",
   "metadata": {},
   "outputs": [],
   "source": [
    "c.execute(\"\"\"SELECT * FROM attempts WHERE player_name in ?\"\"\")\n",
    "rows = c.fetchall()\n",
    "c.execute('PRAGMA table_info(attempts)')\n",
    "columns = [col[1] for col in c.fetchall()]"
   ]
  },
  {
   "cell_type": "code",
   "execution_count": 12,
   "id": "46cd68f4",
   "metadata": {},
   "outputs": [],
   "source": [
    "data = pd.DataFrame(rows, columns = columns)"
   ]
  },
  {
   "cell_type": "markdown",
   "id": "d4be85a7",
   "metadata": {},
   "source": [
    "### Creating the functions"
   ]
  },
  {
   "cell_type": "code",
   "execution_count": 13,
   "id": "d2cdc4bf",
   "metadata": {},
   "outputs": [],
   "source": [
    "def match_played(ax):\n",
    "    sns.barplot(x=data[0:5][\"player_name\"], y=data[0:5][\"match_played\"], palette=\"husl\", ax=ax)\n",
    "    ax.set_xlabel('Player Name')\n",
    "    ax.set_ylabel('Match Played')\n",
    "    ax.set_title('Match played')"
   ]
  },
  {
   "cell_type": "code",
   "execution_count": 18,
   "id": "fa9bc54c",
   "metadata": {},
   "outputs": [],
   "source": [
    "def attempts_target(ax):\n",
    "    subset_data = data.head()\n",
    "\n",
    "    players = subset_data['player_name']\n",
    "    total_attempts = subset_data['total_attempts']\n",
    "    on_target = subset_data['on_target']\n",
    "\n",
    "    x = np.arange(len(players))  # the label locations\n",
    "    width = 0.35  # the width of the bars\n",
    "\n",
    "    rects1 = ax.bar(x - width/2, total_attempts, width, label='Total Attempts')\n",
    "    rects2 = ax.bar(x + width/2, on_target, width, label='On Target')\n",
    "\n",
    "    # Add some text for labels, title and custom x-axis tick labels, etc.\n",
    "    #ax.set_xlabel('Player Name')\n",
    "    ax.set_ylabel('Attempts')\n",
    "    ax.set_title('Total Attempts vs. On Target by Player')\n",
    "    ax.set_xticks(x)\n",
    "    ax.set_xticklabels(players)\n",
    "    ax.legend()"
   ]
  },
  {
   "cell_type": "markdown",
   "id": "f4566d50",
   "metadata": {},
   "source": [
    "### Plotting the results"
   ]
  },
  {
   "cell_type": "code",
   "execution_count": 19,
   "id": "3d818012",
   "metadata": {},
   "outputs": [
    {
     "data": {
      "image/png": "[encoded data removed]",
      "text/plain": [
       "<Figure size 1500x500 with 2 Axes>"
      ]
     },
     "metadata": {},
     "output_type": "display_data"
    }
   ],
   "source": [
    "# Create subplots and call the functions\n",
    "fig, (ax1, ax2) = plt.subplots(1, 2, figsize=(15, 5))\n",
    "\n",
    "# Call the functions with the appropriate axes\n",
    "match_played(ax1)\n",
    "attempts_target(ax2)\n",
    "\n",
    "plt.show()"
   ]
  }
 ],
 "metadata": {
  "kernelspec": {
   "display_name": "Python 3 (ipykernel)",
   "language": "python",
   "name": "python3"
  },
  "language_info": {
   "codemirror_mode": {
    "name": "ipython",
    "version": 3
   },
   "file_extension": ".py",
   "mimetype": "text/x-python",
   "name": "python",
   "nbconvert_exporter": "python",
   "pygments_lexer": "ipython3",
   "version": "3.10.6"
  },
  "toc": {
   "base_numbering": 1,
   "nav_menu": {},
   "number_sections": true,
   "sideBar": true,
   "skip_h1_title": false,
   "title_cell": "Table of Contents",
   "title_sidebar": "Contents",
   "toc_cell": false,
   "toc_position": {},
   "toc_section_display": true,
   "toc_window_display": false
  }
 },
 "nbformat": 4,
 "nbformat_minor": 5
}
