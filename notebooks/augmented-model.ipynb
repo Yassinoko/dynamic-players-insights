{
 "cells": [
  {
   "cell_type": "code",
   "execution_count": 1,
   "metadata": {},
   "outputs": [],
   "source": [
    "import numpy as np\n",
    "import pandas as pd\n",
    "import sys\n",
    "import tensorflow as tf\n",
    "from keras.layers import RandomFlip\n",
    "from keras.layers import RandomRotation\n"
   ]
  },
  {
   "cell_type": "code",
   "execution_count": 2,
   "metadata": {},
   "outputs": [],
   "source": [
    "# Add a directory path to sys.path\n",
    "sys.path.append('/Users/Jason/Code/Yassinoko/dynamic-players-insights/')\n"
   ]
  },
  {
   "cell_type": "code",
   "execution_count": 3,
   "metadata": {},
   "outputs": [],
   "source": [
    "# import get_player_images function\n",
    "from data_processing.get_images import get_players_images_cropped\n",
    "from data_processing.class_preprocessing import preprocessing_classes\n",
    "from data_processing.image_preprocessing import processing_images\n"
   ]
  },
  {
   "cell_type": "code",
   "execution_count": 4,
   "metadata": {},
   "outputs": [],
   "source": [
    "#load images\n",
    "player_images = get_players_images_cropped()\n",
    "player_images_df = pd.DataFrame(player_images)\n"
   ]
  },
  {
   "cell_type": "code",
   "execution_count": 5,
   "metadata": {},
   "outputs": [
    {
     "name": "stderr",
     "output_type": "stream",
     "text": [
      "100%|██████████| 483/483 [00:00<00:00, 4175.42it/s]\n"
     ]
    },
    {
     "ename": "ValueError",
     "evalue": "(408, 612) is not in list",
     "output_type": "error",
     "traceback": [
      "\u001b[0;31m---------------------------------------------------------------------------\u001b[0m",
      "\u001b[0;31mValueError\u001b[0m                                Traceback (most recent call last)",
      "\u001b[1;32m/Users/Jason/Code/Yassinoko/dynamic-players-insights/notebooks/augmented-model.ipynb Cell 5\u001b[0m line \u001b[0;36m2\n\u001b[1;32m      <a href='vscode-notebook-cell:/Users/Jason/Code/Yassinoko/dynamic-players-insights/notebooks/augmented-model.ipynb#W4sZmlsZQ%3D%3D?line=0'>1</a>\u001b[0m \u001b[39m# preprocessing of images and labels\u001b[39;00m\n\u001b[0;32m----> <a href='vscode-notebook-cell:/Users/Jason/Code/Yassinoko/dynamic-players-insights/notebooks/augmented-model.ipynb#W4sZmlsZQ%3D%3D?line=1'>2</a>\u001b[0m X, y \u001b[39m=\u001b[39m processing_images(player_images)\n\u001b[1;32m      <a href='vscode-notebook-cell:/Users/Jason/Code/Yassinoko/dynamic-players-insights/notebooks/augmented-model.ipynb#W4sZmlsZQ%3D%3D?line=2'>3</a>\u001b[0m y \u001b[39m=\u001b[39m preprocessing_classes(y)\n",
      "File \u001b[0;32m~/Code/Yassinoko/dynamic-players-insights/data_processing/image_preprocessing.py:37\u001b[0m, in \u001b[0;36mprocessing_images\u001b[0;34m(img_label_dict)\u001b[0m\n\u001b[1;32m     33\u001b[0m         \u001b[39mpass\u001b[39;00m\n\u001b[1;32m     35\u001b[0m preprocessed_img \u001b[39m=\u001b[39m np\u001b[39m.\u001b[39marray(preprocessed_img)\n\u001b[0;32m---> 37\u001b[0m \u001b[39mprint\u001b[39m(shapes\u001b[39m.\u001b[39;49mindex((\u001b[39m408\u001b[39;49m, \u001b[39m612\u001b[39;49m)))\n\u001b[1;32m     38\u001b[0m \u001b[39mprint\u001b[39m(shapes\u001b[39m.\u001b[39mindex((\u001b[39m418\u001b[39m, \u001b[39m612\u001b[39m)))\n\u001b[1;32m     40\u001b[0m total_labels \u001b[39m=\u001b[39m img_label_dict[\u001b[39m'\u001b[39m\u001b[39mname\u001b[39m\u001b[39m'\u001b[39m]\n",
      "\u001b[0;31mValueError\u001b[0m: (408, 612) is not in list"
     ]
    }
   ],
   "source": [
    "# preprocessing of images and labels\n",
    "X, y = processing_images(player_images)\n",
    "y = preprocessing_classes(y)\n"
   ]
  }
 ],
 "metadata": {
  "kernelspec": {
   "display_name": "dynamic-players-insights",
   "language": "python",
   "name": "python3"
  },
  "language_info": {
   "codemirror_mode": {
    "name": "ipython",
    "version": 3
   },
   "file_extension": ".py",
   "mimetype": "text/x-python",
   "name": "python",
   "nbconvert_exporter": "python",
   "pygments_lexer": "ipython3",
   "version": "3.10.6"
  }
 },
 "nbformat": 4,
 "nbformat_minor": 2
}
