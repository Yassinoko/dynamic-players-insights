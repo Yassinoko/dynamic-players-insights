{
 "cells": [
  {
   "cell_type": "code",
   "execution_count": 22,
   "metadata": {},
   "outputs": [],
   "source": [
    "# import pre-trained model MobileNetV2\n",
    "from keras.applications import MobileNetV2\n",
    "from keras import layers, models\n",
    "import pandas as pd\n",
    "import os\n",
    "import requests\n",
    "import time\n",
    "import pandas as pd\n",
    "from urllib.parse import quote\n",
    "from selenium import webdriver\n",
    "\n",
    "# import functions\n",
    "# from face_scraping import download_images\n"
   ]
  },
  {
   "cell_type": "code",
   "execution_count": 33,
   "metadata": {},
   "outputs": [],
   "source": [
    "def download_images(player_name):\n",
    "    # Create a directory to save the images\n",
    "    player_folder_path = f\"./raw_data/faces/{player_name}\"\n",
    "    os.makedirs(player_folder_path, exist_ok=True)\n",
    "\n",
    "    # Define the URL for Getty Images\n",
    "    encoded_player_name = quote(player_name)\n",
    "    url = f\"https://www.gettyimages.be/photos/{encoded_player_name}?assettype=image&compositions=headshot&family=editorial&numberofpeople=one&sort=best\"\n",
    "\n",
    "    # Configure the Chrome driver (Make sure you have the correct chromedriver installed)\n",
    "    driver = webdriver.Chrome()\n",
    "\n",
    "    try:\n",
    "        # Access the URL\n",
    "        driver.get(url)\n",
    "        time.sleep(5)  # Allow time for the page to load\n",
    "\n",
    "        # Extract image URLs\n",
    "        image_elements = driver.find_elements(\"xpath\", '//img[contains(@src, \"https://media.gettyimages.com\")]')\n",
    "\n",
    "        # Download and save 30 images\n",
    "        count = 0\n",
    "        for img in image_elements:\n",
    "            img_url = img.get_attribute(\"src\")\n",
    "            img_data = requests.get(img_url).content\n",
    "            with open(f\"{player_folder_path}/{player_name}_{count}.jpg\", \"wb\") as handler:\n",
    "                handler.write(img_data)\n",
    "            count += 1\n",
    "            if count == 30:\n",
    "                break\n",
    "\n",
    "        print(f\"Downloaded {count} images of {player_name} from Getty Images.\")\n",
    "\n",
    "    except Exception as e:\n",
    "        print(f\"Failed to retrieve images of {player_name} from Getty Images. Error: {e}\")\n",
    "\n",
    "    finally:\n",
    "        # Close the browser\n",
    "        driver.quit()\n"
   ]
  },
  {
   "cell_type": "code",
   "execution_count": 34,
   "metadata": {},
   "outputs": [
    {
     "name": "stdout",
     "output_type": "stream",
     "text": [
      "/Users/Jason/Code/Yassinoko/dynamic-players-insights/dynamic-players-insights/notebooks\n"
     ]
    }
   ],
   "source": [
    "!pwd\n"
   ]
  },
  {
   "cell_type": "code",
   "execution_count": 37,
   "metadata": {},
   "outputs": [
    {
     "name": "stdout",
     "output_type": "stream",
     "text": [
      "Downloaded 0 images of Alisson Becker Liverpool from Getty Images.\n",
      "Downloaded 0 images of Salah Liverpool from Getty Images.\n",
      "Downloaded 0 images of Fabinho Liverpool from Getty Images.\n",
      "Downloaded 0 images of Robertson Liverpool from Getty Images.\n",
      "Downloaded 0 images of Mané Liverpool from Getty Images.\n",
      "Downloaded 0 images of Van Dijk Liverpool from Getty Images.\n",
      "Downloaded 0 images of Alexander-Arnold Liverpool from Getty Images.\n",
      "Downloaded 0 images of Konaté Liverpool from Getty Images.\n",
      "Downloaded 0 images of Henderson Liverpool from Getty Images.\n",
      "Downloaded 0 images of Matip Liverpool from Getty Images.\n",
      "Downloaded 0 images of Thiago Alcántara Liverpool from Getty Images.\n",
      "Downloaded 0 images of Diogo Jota Liverpool from Getty Images.\n",
      "Downloaded 0 images of Keïta Liverpool from Getty Images.\n",
      "Downloaded 0 images of Luis Díaz Liverpool from Getty Images.\n",
      "Downloaded 0 images of Tsimikas Liverpool from Getty Images.\n",
      "Downloaded 0 images of Firmino Liverpool from Getty Images.\n",
      "Downloaded 0 images of Oxlade-Chamberlain Liverpool from Getty Images.\n",
      "Downloaded 0 images of Gomez Liverpool from Getty Images.\n",
      "Downloaded 0 images of Minamino Liverpool from Getty Images.\n",
      "Downloaded 0 images of Milner Liverpool from Getty Images.\n",
      "Downloaded 0 images of Origi Liverpool from Getty Images.\n",
      "Downloaded 0 images of Jones Liverpool from Getty Images.\n",
      "Downloaded 0 images of N. Williams Liverpool from Getty Images.\n",
      "Downloaded 0 images of Morton Liverpool from Getty Images.\n",
      "Downloaded 0 images of Phillips Liverpool from Getty Images.\n",
      "Downloaded 0 images of Elliott Liverpool from Getty Images.\n",
      "Downloaded 0 images of Woltman Liverpool from Getty Images.\n",
      "Downloaded 0 images of Bradley Liverpool from Getty Images.\n",
      "Downloaded 0 images of Ederson Man. City from Getty Images.\n",
      "Downloaded 0 images of Mahrez Man. City from Getty Images.\n",
      "Downloaded 0 images of Bernardo Silva Man. City from Getty Images.\n",
      "Downloaded 0 images of Rodri Man. City from Getty Images.\n",
      "Downloaded 0 images of João Cancelo Man. City from Getty Images.\n",
      "Downloaded 0 images of Laporte Man. City from Getty Images.\n",
      "Downloaded 0 images of De Bruyne Man. City from Getty Images.\n",
      "Downloaded 0 images of Rúben Dias Man. City from Getty Images.\n"
     ]
    },
    {
     "ename": "KeyboardInterrupt",
     "evalue": "",
     "output_type": "error",
     "traceback": [
      "\u001b[0;31m---------------------------------------------------------------------------\u001b[0m",
      "\u001b[0;31mKeyboardInterrupt\u001b[0m                         Traceback (most recent call last)",
      "\u001b[1;32m/Users/Jason/Code/Yassinoko/dynamic-players-insights/dynamic-players-insights/notebooks/pre-model-training.ipynb Cell 4\u001b[0m line \u001b[0;36m1\n\u001b[1;32m     <a href='vscode-notebook-cell:/Users/Jason/Code/Yassinoko/dynamic-players-insights/dynamic-players-insights/notebooks/pre-model-training.ipynb#X11sZmlsZQ%3D%3D?line=10'>11</a>\u001b[0m \u001b[39mfor\u001b[39;00m team, players \u001b[39min\u001b[39;00m team_players_dict\u001b[39m.\u001b[39mitems():\n\u001b[1;32m     <a href='vscode-notebook-cell:/Users/Jason/Code/Yassinoko/dynamic-players-insights/dynamic-players-insights/notebooks/pre-model-training.ipynb#X11sZmlsZQ%3D%3D?line=11'>12</a>\u001b[0m     \u001b[39mfor\u001b[39;00m player \u001b[39min\u001b[39;00m players:\n\u001b[0;32m---> <a href='vscode-notebook-cell:/Users/Jason/Code/Yassinoko/dynamic-players-insights/dynamic-players-insights/notebooks/pre-model-training.ipynb#X11sZmlsZQ%3D%3D?line=12'>13</a>\u001b[0m         download_images(player \u001b[39m+\u001b[39;49m \u001b[39m'\u001b[39;49m\u001b[39m \u001b[39;49m\u001b[39m'\u001b[39;49m \u001b[39m+\u001b[39;49m team)\n",
      "\u001b[1;32m/Users/Jason/Code/Yassinoko/dynamic-players-insights/dynamic-players-insights/notebooks/pre-model-training.ipynb Cell 4\u001b[0m line \u001b[0;36m1\n\u001b[1;32m     <a href='vscode-notebook-cell:/Users/Jason/Code/Yassinoko/dynamic-players-insights/dynamic-players-insights/notebooks/pre-model-training.ipynb#X11sZmlsZQ%3D%3D?line=12'>13</a>\u001b[0m \u001b[39mtry\u001b[39;00m:\n\u001b[1;32m     <a href='vscode-notebook-cell:/Users/Jason/Code/Yassinoko/dynamic-players-insights/dynamic-players-insights/notebooks/pre-model-training.ipynb#X11sZmlsZQ%3D%3D?line=13'>14</a>\u001b[0m     \u001b[39m# Access the URL\u001b[39;00m\n\u001b[1;32m     <a href='vscode-notebook-cell:/Users/Jason/Code/Yassinoko/dynamic-players-insights/dynamic-players-insights/notebooks/pre-model-training.ipynb#X11sZmlsZQ%3D%3D?line=14'>15</a>\u001b[0m     driver\u001b[39m.\u001b[39mget(url)\n\u001b[0;32m---> <a href='vscode-notebook-cell:/Users/Jason/Code/Yassinoko/dynamic-players-insights/dynamic-players-insights/notebooks/pre-model-training.ipynb#X11sZmlsZQ%3D%3D?line=15'>16</a>\u001b[0m     time\u001b[39m.\u001b[39;49msleep(\u001b[39m5\u001b[39;49m)  \u001b[39m# Allow time for the page to load\u001b[39;00m\n\u001b[1;32m     <a href='vscode-notebook-cell:/Users/Jason/Code/Yassinoko/dynamic-players-insights/dynamic-players-insights/notebooks/pre-model-training.ipynb#X11sZmlsZQ%3D%3D?line=17'>18</a>\u001b[0m     \u001b[39m# Extract image URLs\u001b[39;00m\n\u001b[1;32m     <a href='vscode-notebook-cell:/Users/Jason/Code/Yassinoko/dynamic-players-insights/dynamic-players-insights/notebooks/pre-model-training.ipynb#X11sZmlsZQ%3D%3D?line=18'>19</a>\u001b[0m     image_elements \u001b[39m=\u001b[39m driver\u001b[39m.\u001b[39mfind_elements(\u001b[39m\"\u001b[39m\u001b[39mxpath\u001b[39m\u001b[39m\"\u001b[39m, \u001b[39m'\u001b[39m\u001b[39m//img[contains(@src, \u001b[39m\u001b[39m\"\u001b[39m\u001b[39mhttps://media.gettyimages.com\u001b[39m\u001b[39m\"\u001b[39m\u001b[39m)]\u001b[39m\u001b[39m'\u001b[39m)\n",
      "\u001b[0;31mKeyboardInterrupt\u001b[0m: "
     ]
    }
   ],
   "source": [
    "# import key_stats file\n",
    "key_stats = pd.read_csv(\"../../raw_data/stats/key_stats.csv\")\n",
    "\n",
    "# create dictionary of team_names keys and player_name values\n",
    "team_names = ['Liverpool', 'Man. City']\n",
    "# ['Real Madrid', 'Liverpool', 'Man. United', 'Villareal', 'Benfica', 'Bayern', 'Atlético', 'Chelsea']\n",
    "team_players_dict = {}\n",
    "for team_name in team_names:\n",
    "    team_players_dict[team_name] = list(key_stats[key_stats.club == team_name].player_name.unique())\n",
    "\n",
    "for team, players in team_players_dict.items():\n",
    "    for player in players:\n",
    "        download_images(player + ' ' + team)\n"
   ]
  },
  {
   "cell_type": "code",
   "execution_count": 2,
   "metadata": {},
   "outputs": [],
   "source": [
    "# define the model\n",
    "\n",
    "def load_model():\n",
    "    model = MobileNetV2(\n",
    "        input_shape=None,\n",
    "        alpha=1.0,\n",
    "        include_top=False,\n",
    "        weights=\"imagenet\",\n",
    "        input_tensor=None,\n",
    "        pooling=None,\n",
    "        classes=39,\n",
    "        classifier_activation=\"softmax\",\n",
    "        )\n",
    "    return model\n"
   ]
  },
  {
   "cell_type": "code",
   "execution_count": 3,
   "metadata": {},
   "outputs": [],
   "source": [
    "# set the first layers to be non-trainable\n",
    "def set_nontrainable_layers(model):\n",
    "    model.trainable = False\n",
    "    return model\n"
   ]
  },
  {
   "cell_type": "code",
   "execution_count": 4,
   "metadata": {},
   "outputs": [],
   "source": [
    "# add trainable layers\n",
    "\n",
    "def add_last_layers(model):\n",
    "    '''Take a pre-trained model, set its parameters as non-trainable, and add additional trainable layers on top'''\n",
    "    base_model = set_nontrainable_layers(model)\n",
    "    flatten_layer = layers.Flatten()\n",
    "    dense_layer = layers.Dense(500, activation='relu')\n",
    "    prediction_layer = layers.Dense(39, activation='softmax')\n",
    "\n",
    "    model = models.Sequential([\n",
    "        base_model,\n",
    "        flatten_layer,\n",
    "        dense_layer,\n",
    "        prediction_layer\n",
    "    ])\n",
    "    return model\n"
   ]
  },
  {
   "cell_type": "code",
   "execution_count": 5,
   "metadata": {},
   "outputs": [
    {
     "name": "stdout",
     "output_type": "stream",
     "text": [
      "WARNING:tensorflow:`input_shape` is undefined or non-square, or `rows` is not in [96, 128, 160, 192, 224]. Weights for input shape (224, 224) will be loaded as the default.\n"
     ]
    },
    {
     "ename": "ValueError",
     "evalue": "The last dimension of the inputs to a Dense layer should be defined. Found None. Full input shape received: (None, None)",
     "output_type": "error",
     "traceback": [
      "\u001b[0;31m---------------------------------------------------------------------------\u001b[0m",
      "\u001b[0;31mValueError\u001b[0m                                Traceback (most recent call last)",
      "\u001b[1;32m/Users/Jason/Code/Yassinoko/dynamic-players-insights/dynamic-players-insights/notebooks/pre-model-training.ipynb Cell 5\u001b[0m line \u001b[0;36m3\n\u001b[1;32m      <a href='vscode-notebook-cell:/Users/Jason/Code/Yassinoko/dynamic-players-insights/dynamic-players-insights/notebooks/pre-model-training.ipynb#X10sZmlsZQ%3D%3D?line=0'>1</a>\u001b[0m model \u001b[39m=\u001b[39m load_model()\n\u001b[1;32m      <a href='vscode-notebook-cell:/Users/Jason/Code/Yassinoko/dynamic-players-insights/dynamic-players-insights/notebooks/pre-model-training.ipynb#X10sZmlsZQ%3D%3D?line=1'>2</a>\u001b[0m model \u001b[39m=\u001b[39m set_nontrainable_layers(model)\n\u001b[0;32m----> <a href='vscode-notebook-cell:/Users/Jason/Code/Yassinoko/dynamic-players-insights/dynamic-players-insights/notebooks/pre-model-training.ipynb#X10sZmlsZQ%3D%3D?line=2'>3</a>\u001b[0m model \u001b[39m=\u001b[39m add_last_layers(model)\n",
      "\u001b[1;32m/Users/Jason/Code/Yassinoko/dynamic-players-insights/dynamic-players-insights/notebooks/pre-model-training.ipynb Cell 5\u001b[0m line \u001b[0;36m1\n\u001b[1;32m      <a href='vscode-notebook-cell:/Users/Jason/Code/Yassinoko/dynamic-players-insights/dynamic-players-insights/notebooks/pre-model-training.ipynb#X10sZmlsZQ%3D%3D?line=6'>7</a>\u001b[0m dense_layer \u001b[39m=\u001b[39m layers\u001b[39m.\u001b[39mDense(\u001b[39m500\u001b[39m, activation\u001b[39m=\u001b[39m\u001b[39m'\u001b[39m\u001b[39mrelu\u001b[39m\u001b[39m'\u001b[39m)\n\u001b[1;32m      <a href='vscode-notebook-cell:/Users/Jason/Code/Yassinoko/dynamic-players-insights/dynamic-players-insights/notebooks/pre-model-training.ipynb#X10sZmlsZQ%3D%3D?line=7'>8</a>\u001b[0m prediction_layer \u001b[39m=\u001b[39m layers\u001b[39m.\u001b[39mDense(\u001b[39m39\u001b[39m, activation\u001b[39m=\u001b[39m\u001b[39m'\u001b[39m\u001b[39msoftmax\u001b[39m\u001b[39m'\u001b[39m)\n\u001b[0;32m---> <a href='vscode-notebook-cell:/Users/Jason/Code/Yassinoko/dynamic-players-insights/dynamic-players-insights/notebooks/pre-model-training.ipynb#X10sZmlsZQ%3D%3D?line=9'>10</a>\u001b[0m model \u001b[39m=\u001b[39m models\u001b[39m.\u001b[39;49mSequential([\n\u001b[1;32m     <a href='vscode-notebook-cell:/Users/Jason/Code/Yassinoko/dynamic-players-insights/dynamic-players-insights/notebooks/pre-model-training.ipynb#X10sZmlsZQ%3D%3D?line=10'>11</a>\u001b[0m     base_model,\n\u001b[1;32m     <a href='vscode-notebook-cell:/Users/Jason/Code/Yassinoko/dynamic-players-insights/dynamic-players-insights/notebooks/pre-model-training.ipynb#X10sZmlsZQ%3D%3D?line=11'>12</a>\u001b[0m     flatten_layer,\n\u001b[1;32m     <a href='vscode-notebook-cell:/Users/Jason/Code/Yassinoko/dynamic-players-insights/dynamic-players-insights/notebooks/pre-model-training.ipynb#X10sZmlsZQ%3D%3D?line=12'>13</a>\u001b[0m     dense_layer,\n\u001b[1;32m     <a href='vscode-notebook-cell:/Users/Jason/Code/Yassinoko/dynamic-players-insights/dynamic-players-insights/notebooks/pre-model-training.ipynb#X10sZmlsZQ%3D%3D?line=13'>14</a>\u001b[0m     prediction_layer\n\u001b[1;32m     <a href='vscode-notebook-cell:/Users/Jason/Code/Yassinoko/dynamic-players-insights/dynamic-players-insights/notebooks/pre-model-training.ipynb#X10sZmlsZQ%3D%3D?line=14'>15</a>\u001b[0m ])\n\u001b[1;32m     <a href='vscode-notebook-cell:/Users/Jason/Code/Yassinoko/dynamic-players-insights/dynamic-players-insights/notebooks/pre-model-training.ipynb#X10sZmlsZQ%3D%3D?line=15'>16</a>\u001b[0m \u001b[39mreturn\u001b[39;00m model\n",
      "File \u001b[0;32m~/.pyenv/versions/3.10.6/envs/dynamic-players-insights/lib/python3.10/site-packages/tensorflow/python/trackable/base.py:205\u001b[0m, in \u001b[0;36mno_automatic_dependency_tracking.<locals>._method_wrapper\u001b[0;34m(self, *args, **kwargs)\u001b[0m\n\u001b[1;32m    203\u001b[0m \u001b[39mself\u001b[39m\u001b[39m.\u001b[39m_self_setattr_tracking \u001b[39m=\u001b[39m \u001b[39mFalse\u001b[39;00m  \u001b[39m# pylint: disable=protected-access\u001b[39;00m\n\u001b[1;32m    204\u001b[0m \u001b[39mtry\u001b[39;00m:\n\u001b[0;32m--> 205\u001b[0m   result \u001b[39m=\u001b[39m method(\u001b[39mself\u001b[39;49m, \u001b[39m*\u001b[39;49margs, \u001b[39m*\u001b[39;49m\u001b[39m*\u001b[39;49mkwargs)\n\u001b[1;32m    206\u001b[0m \u001b[39mfinally\u001b[39;00m:\n\u001b[1;32m    207\u001b[0m   \u001b[39mself\u001b[39m\u001b[39m.\u001b[39m_self_setattr_tracking \u001b[39m=\u001b[39m previous_value  \u001b[39m# pylint: disable=protected-access\u001b[39;00m\n",
      "File \u001b[0;32m~/.pyenv/versions/3.10.6/envs/dynamic-players-insights/lib/python3.10/site-packages/keras/utils/traceback_utils.py:70\u001b[0m, in \u001b[0;36mfilter_traceback.<locals>.error_handler\u001b[0;34m(*args, **kwargs)\u001b[0m\n\u001b[1;32m     67\u001b[0m     filtered_tb \u001b[39m=\u001b[39m _process_traceback_frames(e\u001b[39m.\u001b[39m__traceback__)\n\u001b[1;32m     68\u001b[0m     \u001b[39m# To get the full stack trace, call:\u001b[39;00m\n\u001b[1;32m     69\u001b[0m     \u001b[39m# `tf.debugging.disable_traceback_filtering()`\u001b[39;00m\n\u001b[0;32m---> 70\u001b[0m     \u001b[39mraise\u001b[39;00m e\u001b[39m.\u001b[39mwith_traceback(filtered_tb) \u001b[39mfrom\u001b[39;00m \u001b[39mNone\u001b[39m\n\u001b[1;32m     71\u001b[0m \u001b[39mfinally\u001b[39;00m:\n\u001b[1;32m     72\u001b[0m     \u001b[39mdel\u001b[39;00m filtered_tb\n",
      "File \u001b[0;32m~/.pyenv/versions/3.10.6/envs/dynamic-players-insights/lib/python3.10/site-packages/keras/layers/core/dense.py:148\u001b[0m, in \u001b[0;36mDense.build\u001b[0;34m(self, input_shape)\u001b[0m\n\u001b[1;32m    146\u001b[0m last_dim \u001b[39m=\u001b[39m tf\u001b[39m.\u001b[39mcompat\u001b[39m.\u001b[39mdimension_value(input_shape[\u001b[39m-\u001b[39m\u001b[39m1\u001b[39m])\n\u001b[1;32m    147\u001b[0m \u001b[39mif\u001b[39;00m last_dim \u001b[39mis\u001b[39;00m \u001b[39mNone\u001b[39;00m:\n\u001b[0;32m--> 148\u001b[0m     \u001b[39mraise\u001b[39;00m \u001b[39mValueError\u001b[39;00m(\n\u001b[1;32m    149\u001b[0m         \u001b[39m\"\u001b[39m\u001b[39mThe last dimension of the inputs to a Dense layer \u001b[39m\u001b[39m\"\u001b[39m\n\u001b[1;32m    150\u001b[0m         \u001b[39m\"\u001b[39m\u001b[39mshould be defined. Found None. \u001b[39m\u001b[39m\"\u001b[39m\n\u001b[1;32m    151\u001b[0m         \u001b[39mf\u001b[39m\u001b[39m\"\u001b[39m\u001b[39mFull input shape received: \u001b[39m\u001b[39m{\u001b[39;00minput_shape\u001b[39m}\u001b[39;00m\u001b[39m\"\u001b[39m\n\u001b[1;32m    152\u001b[0m     )\n\u001b[1;32m    153\u001b[0m \u001b[39mself\u001b[39m\u001b[39m.\u001b[39minput_spec \u001b[39m=\u001b[39m InputSpec(min_ndim\u001b[39m=\u001b[39m\u001b[39m2\u001b[39m, axes\u001b[39m=\u001b[39m{\u001b[39m-\u001b[39m\u001b[39m1\u001b[39m: last_dim})\n\u001b[1;32m    154\u001b[0m \u001b[39mself\u001b[39m\u001b[39m.\u001b[39mkernel \u001b[39m=\u001b[39m \u001b[39mself\u001b[39m\u001b[39m.\u001b[39madd_weight(\n\u001b[1;32m    155\u001b[0m     \u001b[39m\"\u001b[39m\u001b[39mkernel\u001b[39m\u001b[39m\"\u001b[39m,\n\u001b[1;32m    156\u001b[0m     shape\u001b[39m=\u001b[39m[last_dim, \u001b[39mself\u001b[39m\u001b[39m.\u001b[39munits],\n\u001b[0;32m   (...)\u001b[0m\n\u001b[1;32m    161\u001b[0m     trainable\u001b[39m=\u001b[39m\u001b[39mTrue\u001b[39;00m,\n\u001b[1;32m    162\u001b[0m )\n",
      "\u001b[0;31mValueError\u001b[0m: The last dimension of the inputs to a Dense layer should be defined. Found None. Full input shape received: (None, None)"
     ]
    }
   ],
   "source": [
    "model = load_model()\n",
    "model = set_nontrainable_layers(model)\n",
    "model = add_last_layers(model)\n"
   ]
  }
 ],
 "metadata": {
  "kernelspec": {
   "display_name": "dynamic-players-insights",
   "language": "python",
   "name": "python3"
  },
  "language_info": {
   "codemirror_mode": {
    "name": "ipython",
    "version": 3
   },
   "file_extension": ".py",
   "mimetype": "text/x-python",
   "name": "python",
   "nbconvert_exporter": "python",
   "pygments_lexer": "ipython3",
   "version": "3.10.6"
  }
 },
 "nbformat": 4,
 "nbformat_minor": 2
}
