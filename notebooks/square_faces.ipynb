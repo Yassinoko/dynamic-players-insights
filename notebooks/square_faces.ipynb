{
 "cells": [
  {
   "cell_type": "markdown",
   "id": "8de46764-a76f-491a-b139-ad127ea602b7",
   "metadata": {},
   "source": [
    "### Capturing faces in squares"
   ]
  },
  {
   "cell_type": "markdown",
   "id": "47ef5493-e4b8-49e1-9a68-85833409c81d",
   "metadata": {},
   "source": [
    "#### Improting libs"
   ]
  },
  {
   "cell_type": "code",
   "execution_count": 1,
   "id": "ae2b8b65-7622-45ed-9b8e-aa028e05de41",
   "metadata": {},
   "outputs": [],
   "source": [
    "import cv2\n",
    "import time"
   ]
  },
  {
   "cell_type": "markdown",
   "id": "6d82a5ad-394a-4db6-8dfc-3dc9d5a48f9a",
   "metadata": {},
   "source": [
    "#### Main algo"
   ]
  },
  {
   "cell_type": "code",
   "execution_count": 2,
   "id": "07f73cc1-76d4-492f-8b6c-20783a05e897",
   "metadata": {},
   "outputs": [],
   "source": [
    "time.sleep(5)\n",
    "\n",
    "# Load the pre-trained Haar Cascade Classifier for face detection\n",
    "face_cascade = cv2.CascadeClassifier(cv2.data.haarcascades + 'haarcascade_frontalface_default.xml')\n",
    "\n",
    "# Open a video capture object (0 for default camera, or provide the video file path)\n",
    "cap = cv2.VideoCapture('/Users/niknmirosh/code/Yassinoko/dynamic-players-insights/notebooks/step4.mov')\n",
    "\n",
    "# Set the frame skip factor\n",
    "frame_skip = 5  # Display every 5th frame\n",
    "\n",
    "while cap.isOpened():\n",
    "    # Read a frame from the video\n",
    "    ret, frame = cap.read()\n",
    "\n",
    "    if not ret:\n",
    "        break\n",
    "\n",
    "    # Convert the frame to grayscale for face detection\n",
    "    gray = cv2.cvtColor(frame, cv2.COLOR_BGR2GRAY)\n",
    "\n",
    "    # Detect faces in the frame\n",
    "    faces = face_cascade.detectMultiScale(gray, scaleFactor=1.1, minNeighbors=5, minSize=(30, 30))\n",
    "\n",
    "    # Draw squares around the detected faces\n",
    "    for (x, y, w, h) in faces:\n",
    "        border_width = 20\n",
    "        cv2.rectangle(frame, (x, y), (x + w, y + h), (255, 0, 0), border_width)\n",
    "\n",
    "    # Display the frame with faces\n",
    "    cv2.imshow('Video with Face Detection', frame)\n",
    "\n",
    "    # Skip frames to achieve faster playback\n",
    "    for _ in range(frame_skip - 1):\n",
    "        cap.read()\n",
    "\n",
    "    # Break the loop if 'q' is pressed\n",
    "    if cv2.waitKey(1) & 0xFF == ord('q'):\n",
    "        break\n",
    "\n",
    "# Release the video capture and writer objects\n",
    "cap.release()\n",
    "\n",
    "# Close all OpenCV windows\n",
    "cv2.destroyAllWindows()"
   ]
  },
  {
   "cell_type": "code",
   "execution_count": null,
   "id": "42d5d90d-de4e-455b-9a30-8fcccb8c0e94",
   "metadata": {},
   "outputs": [],
   "source": []
  }
 ],
 "metadata": {
  "kernelspec": {
   "display_name": "Python 3 (ipykernel)",
   "language": "python",
   "name": "python3"
  },
  "language_info": {
   "codemirror_mode": {
    "name": "ipython",
    "version": 3
   },
   "file_extension": ".py",
   "mimetype": "text/x-python",
   "name": "python",
   "nbconvert_exporter": "python",
   "pygments_lexer": "ipython3",
   "version": "3.10.6"
  }
 },
 "nbformat": 4,
 "nbformat_minor": 5
}
