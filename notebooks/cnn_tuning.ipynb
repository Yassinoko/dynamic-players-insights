{
  "cells": [
    {
      "cell_type": "markdown",
      "id": "e9cb6ca0-6331-4869-a7c4-ba7d9a4aae30",
      "metadata": {
        "id": "e9cb6ca0-6331-4869-a7c4-ba7d9a4aae30"
      },
      "source": [
        "## Computing baseline of our model"
      ]
    },
    {
      "cell_type": "markdown",
      "id": "e86e0ce6-8b06-4e8e-a020-754c1f00566d",
      "metadata": {
        "id": "e86e0ce6-8b06-4e8e-a020-754c1f00566d"
      },
      "source": [
        "#### Importing libs"
      ]
    },
    {
      "cell_type": "code",
      "execution_count": 1,
      "id": "62c98909-2dad-41c1-a03c-90edfed77702",
      "metadata": {
        "id": "62c98909-2dad-41c1-a03c-90edfed77702"
      },
      "outputs": [],
      "source": [
        "import pandas as pd\n",
        "import numpy as np\n",
        "import os\n",
        "import cv2\n",
        "import gc\n",
        "from google.colab import drive\n",
        "from PIL import Image\n",
        "from collections import Counter\n",
        "from sklearn.utils import shuffle\n",
        "from sklearn.preprocessing import LabelEncoder\n",
        "from sklearn.model_selection import train_test_split\n",
        "from sklearn.model_selection import cross_validate\n",
        "import tensorflow as tf\n",
        "from tensorflow import stack\n",
        "from tensorflow import Tensor\n",
        "from tensorflow.keras.callbacks import EarlyStopping\n",
        "from tensorflow.keras.utils import to_categorical\n",
        "from tensorflow.keras.models import Sequential\n",
        "from tensorflow.keras import layers\n",
        "from tensorflow.keras.layers import Conv2D, MaxPooling2D, Flatten, Dense\n",
        "from tensorflow.keras.preprocessing.image import load_img, img_to_array\n",
        "from tensorflow.keras.layers import Resizing\n",
        "\n",
        "import warnings\n",
        "warnings.filterwarnings('ignore')"
      ]
    },
    {
      "cell_type": "markdown",
      "id": "a823cef3-4c0b-4ece-9197-3a3cf7dde412",
      "metadata": {
        "id": "a823cef3-4c0b-4ece-9197-3a3cf7dde412"
      },
      "source": [
        "#### Upload images and organize them in the Pandas dataframe"
      ]
    },
    {
      "cell_type": "code",
      "source": [
        "drive.mount('/content/drive')"
      ],
      "metadata": {
        "colab": {
          "base_uri": "https://localhost:8080/"
        },
        "id": "LOrCKhnf5nuE",
        "outputId": "c515ff43-9fa4-4963-fcf0-5c7adaec1ed8"
      },
      "id": "LOrCKhnf5nuE",
      "execution_count": 2,
      "outputs": [
        {
          "output_type": "stream",
          "name": "stdout",
          "text": [
            "Drive already mounted at /content/drive; to attempt to forcibly remount, call drive.mount(\"/content/drive\", force_remount=True).\n"
          ]
        }
      ]
    },
    {
      "cell_type": "code",
      "execution_count": 3,
      "id": "ddda61d8-6934-4605-adab-140f130a9f19",
      "metadata": {
        "tags": [],
        "colab": {
          "base_uri": "https://localhost:8080/"
        },
        "id": "ddda61d8-6934-4605-adab-140f130a9f19",
        "outputId": "6bb4c4a4-bd89-4dab-f3ec-1f82e1dc032a"
      },
      "outputs": [
        {
          "output_type": "execute_result",
          "data": {
            "text/plain": [
              "127"
            ]
          },
          "metadata": {},
          "execution_count": 3
        }
      ],
      "source": [
        "# Get the list of all files and folders in the specified directory\n",
        "directory_path = '/content/drive/MyDrive/faces'\n",
        "img_folders = os.listdir(directory_path)\n",
        "len(img_folders)"
      ]
    },
    {
      "cell_type": "code",
      "source": [
        "shorten_img_folders = []\n",
        "\n",
        "for folder in img_folders:\n",
        "    if 'Real Madrid' in folder:\n",
        "        shorten_img_folders.append(folder)\n",
        "\n",
        "shorten_img_folders"
      ],
      "metadata": {
        "colab": {
          "base_uri": "https://localhost:8080/"
        },
        "id": "TuulMIHY1qH5",
        "outputId": "f80eb080-4b5d-4142-c468-eba7a62e5370"
      },
      "id": "TuulMIHY1qH5",
      "execution_count": 4,
      "outputs": [
        {
          "output_type": "execute_result",
          "data": {
            "text/plain": [
              "['Ceballos Real Madrid',\n",
              " 'Éder Militão Real Madrid',\n",
              " 'Marcelo Real Madrid',\n",
              " 'Asensio Real Madrid',\n",
              " 'Vinícius Júnior Real Madrid',\n",
              " 'Kroos Real Madrid',\n",
              " 'Mariano Díaz Real Madrid',\n",
              " 'Camavinga Real Madrid',\n",
              " 'Mendy Real Madrid',\n",
              " 'Rodrygo Real Madrid',\n",
              " 'Casemiro Real Madrid',\n",
              " 'Nacho Real Madrid',\n",
              " 'Jović Real Madrid',\n",
              " 'Vallejo Real Madrid',\n",
              " 'Bale Real Madrid',\n",
              " 'Benzema Real Madrid',\n",
              " 'Courtois Real Madrid',\n",
              " 'Alaba Real Madrid',\n",
              " 'Lucas Vázquez Real Madrid',\n",
              " 'Carvajal Real Madrid']"
            ]
          },
          "metadata": {},
          "execution_count": 4
        }
      ]
    },
    {
      "cell_type": "code",
      "source": [
        "labels = [' '.join(folder.replace('Man.', '').replace('Real', '').split()[:-1]) for folder in shorten_img_folders]\n",
        "len(labels)"
      ],
      "metadata": {
        "colab": {
          "base_uri": "https://localhost:8080/"
        },
        "id": "dpdhPYUr3Dx8",
        "outputId": "04f28b90-75c8-4ec2-a10a-a6bfacc7dbb1"
      },
      "id": "dpdhPYUr3Dx8",
      "execution_count": 5,
      "outputs": [
        {
          "output_type": "execute_result",
          "data": {
            "text/plain": [
              "20"
            ]
          },
          "metadata": {},
          "execution_count": 5
        }
      ]
    },
    {
      "cell_type": "code",
      "source": [
        "from tqdm import tqdm"
      ],
      "metadata": {
        "id": "GhLUdHguejee"
      },
      "id": "GhLUdHguejee",
      "execution_count": 6,
      "outputs": []
    },
    {
      "cell_type": "code",
      "execution_count": 7,
      "id": "1059f86c-f5ea-437c-a4c9-3fb9bceb1f9d",
      "metadata": {
        "tags": [],
        "colab": {
          "base_uri": "https://localhost:8080/"
        },
        "id": "1059f86c-f5ea-437c-a4c9-3fb9bceb1f9d",
        "outputId": "0314496c-4095-4e8d-b6ca-d3532696bc5e"
      },
      "outputs": [
        {
          "output_type": "stream",
          "name": "stderr",
          "text": [
            "20it [00:07,  2.69it/s]\n"
          ]
        }
      ],
      "source": [
        "img_label_dict = {'image': [], 'name': []}\n",
        "shapes = []\n",
        "\n",
        "for img_folder, label in tqdm(zip(shorten_img_folders, labels)):\n",
        "    directory_path = f\"/content/drive/MyDrive/faces/{img_folder}\"\n",
        "    img_files = os.listdir(directory_path)\n",
        "\n",
        "    for img_file in img_files:\n",
        "        try:\n",
        "            image_path = f\"/content/drive/MyDrive/faces/{img_folder}/{img_file}\"\n",
        "            # image_tf = load_img(image_path)\n",
        "            # image_np = img_to_array(image_tf)\n",
        "\n",
        "            image_pil = Image.open(image_path)\n",
        "            image_np = np.array(image_pil)\n",
        "\n",
        "            shapes.append(image_np.shape)\n",
        "\n",
        "            img_label_dict['image'].append(image_np)\n",
        "            img_label_dict['name'].append(label)\n",
        "        except:\n",
        "            pass"
      ]
    },
    {
      "cell_type": "code",
      "source": [
        "first = [shape[0] for shape in shapes]\n",
        "second = [shape[1] for shape in shapes]\n",
        "\n",
        "np.mean(first), np.mean(second)"
      ],
      "metadata": {
        "colab": {
          "base_uri": "https://localhost:8080/"
        },
        "id": "P4Y2ps2cg13_",
        "outputId": "d02af7bd-f981-468d-cf2c-7bc70847eb81"
      },
      "id": "P4Y2ps2cg13_",
      "execution_count": 8,
      "outputs": [
        {
          "output_type": "execute_result",
          "data": {
            "text/plain": [
              "(440.4543889845095, 583.7521514629948)"
            ]
          },
          "metadata": {},
          "execution_count": 8
        }
      ]
    },
    {
      "cell_type": "code",
      "source": [
        "len(img_label_dict['name'])"
      ],
      "metadata": {
        "colab": {
          "base_uri": "https://localhost:8080/"
        },
        "id": "GujDR7cxlvVr",
        "outputId": "daf8eda7-c1b2-454e-9d83-ab89fda82281"
      },
      "id": "GujDR7cxlvVr",
      "execution_count": 9,
      "outputs": [
        {
          "output_type": "execute_result",
          "data": {
            "text/plain": [
              "581"
            ]
          },
          "metadata": {},
          "execution_count": 9
        }
      ]
    },
    {
      "cell_type": "code",
      "execution_count": 10,
      "id": "0fa60f2d-197e-4f22-9331-253684892021",
      "metadata": {
        "tags": [],
        "colab": {
          "base_uri": "https://localhost:8080/"
        },
        "id": "0fa60f2d-197e-4f22-9331-253684892021",
        "outputId": "f3ca7836-bd92-42c3-b880-66b151b9361c"
      },
      "outputs": [
        {
          "output_type": "execute_result",
          "data": {
            "text/plain": [
              "(408, 612, 3)"
            ]
          },
          "metadata": {},
          "execution_count": 10
        }
      ],
      "source": [
        "def most_common(lst):\n",
        "    counter = Counter(lst)\n",
        "    most_common_item = max(counter, key=counter.get)\n",
        "    return most_common_item\n",
        "\n",
        "common = most_common(shapes)\n",
        "common"
      ]
    },
    {
      "cell_type": "code",
      "execution_count": 11,
      "id": "733d8fd8-7b46-40d9-84a3-f53749999bba",
      "metadata": {
        "colab": {
          "base_uri": "https://localhost:8080/"
        },
        "id": "733d8fd8-7b46-40d9-84a3-f53749999bba",
        "outputId": "577b8f64-641d-4ce8-c866-2496ff011f58"
      },
      "outputs": [
        {
          "output_type": "execute_result",
          "data": {
            "text/plain": [
              "(408, 612, 3)"
            ]
          },
          "metadata": {},
          "execution_count": 11
        }
      ],
      "source": [
        "img_label_dict['image'][0].shape"
      ]
    },
    {
      "cell_type": "code",
      "execution_count": 12,
      "id": "761c9413-fb4a-4afd-ad9a-4c2caa7fb3c1",
      "metadata": {
        "tags": [],
        "colab": {
          "base_uri": "https://localhost:8080/"
        },
        "id": "761c9413-fb4a-4afd-ad9a-4c2caa7fb3c1",
        "outputId": "4e509f83-af8b-4fbf-9ee1-d49619d9e771"
      },
      "outputs": [
        {
          "output_type": "execute_result",
          "data": {
            "text/plain": [
              "(408, 612, 3)"
            ]
          },
          "metadata": {},
          "execution_count": 12
        }
      ],
      "source": [
        "np.asarray(img_label_dict['image'][0]).shape"
      ]
    },
    {
      "cell_type": "code",
      "execution_count": 13,
      "id": "69f16ce3-15b1-4203-8c35-12743614149d",
      "metadata": {
        "tags": [],
        "colab": {
          "base_uri": "https://localhost:8080/"
        },
        "id": "69f16ce3-15b1-4203-8c35-12743614149d",
        "outputId": "de1749bb-4c65-49ee-fcb2-889ff85d391a"
      },
      "outputs": [
        {
          "output_type": "execute_result",
          "data": {
            "text/plain": [
              "20"
            ]
          },
          "metadata": {},
          "execution_count": 13
        }
      ],
      "source": [
        "len(labels)"
      ]
    },
    {
      "cell_type": "code",
      "source": [
        "print()"
      ],
      "metadata": {
        "colab": {
          "base_uri": "https://localhost:8080/"
        },
        "id": "tCzeyI9u-K14",
        "outputId": "0de16c48-90b8-4296-98fe-c5319296ab7c"
      },
      "id": "tCzeyI9u-K14",
      "execution_count": 14,
      "outputs": [
        {
          "output_type": "stream",
          "name": "stdout",
          "text": [
            "\n"
          ]
        }
      ]
    },
    {
      "cell_type": "markdown",
      "id": "58db6729-6cf9-4034-a086-2fdf0cea8762",
      "metadata": {
        "id": "58db6729-6cf9-4034-a086-2fdf0cea8762"
      },
      "source": [
        "#### Initializing the model"
      ]
    },
    {
      "cell_type": "code",
      "execution_count": 15,
      "id": "f4f48585-e014-4e41-8481-594ad72faf39",
      "metadata": {
        "colab": {
          "base_uri": "https://localhost:8080/"
        },
        "id": "f4f48585-e014-4e41-8481-594ad72faf39",
        "outputId": "8f823a6f-48a4-4c90-fa97-b135102a9c7e"
      },
      "outputs": [
        {
          "output_type": "stream",
          "name": "stdout",
          "text": [
            "Model: \"sequential\"\n",
            "_________________________________________________________________\n",
            " Layer (type)                Output Shape              Param #   \n",
            "=================================================================\n",
            " conv2d (Conv2D)             (None, 406, 610, 32)      896       \n",
            "                                                                 \n",
            " max_pooling2d (MaxPooling2  (None, 203, 305, 32)      0         \n",
            " D)                                                              \n",
            "                                                                 \n",
            " conv2d_1 (Conv2D)           (None, 201, 303, 64)      18496     \n",
            "                                                                 \n",
            " max_pooling2d_1 (MaxPoolin  (None, 100, 151, 64)      0         \n",
            " g2D)                                                            \n",
            "                                                                 \n",
            " conv2d_2 (Conv2D)           (None, 98, 149, 128)      73856     \n",
            "                                                                 \n",
            " max_pooling2d_2 (MaxPoolin  (None, 49, 74, 128)       0         \n",
            " g2D)                                                            \n",
            "                                                                 \n",
            " flatten (Flatten)           (None, 464128)            0         \n",
            "                                                                 \n",
            " dense (Dense)               (None, 128)               59408512  \n",
            "                                                                 \n",
            " dense_1 (Dense)             (None, 20)                2580      \n",
            "                                                                 \n",
            "=================================================================\n",
            "Total params: 59504340 (226.99 MB)\n",
            "Trainable params: 59504340 (226.99 MB)\n",
            "Non-trainable params: 0 (0.00 Byte)\n",
            "_________________________________________________________________\n"
          ]
        }
      ],
      "source": [
        "def initialize_model():\n",
        "    model = Sequential()\n",
        "    # model.add(Resizing(common[0], common[1], input_shape=common))\n",
        "    model.add(Conv2D(32, (3, 3), activation='relu', input_shape=common))\n",
        "    model.add(MaxPooling2D((2, 2)))\n",
        "    model.add(Conv2D(64, (3, 3), activation='relu'))\n",
        "    model.add(MaxPooling2D((2, 2)))\n",
        "    model.add(Conv2D(128, (3, 3), activation='relu'))\n",
        "    model.add(MaxPooling2D((2, 2)))\n",
        "    # model.add(Conv2D(256, (2, 2), activation='relu'))\n",
        "    # model.add(MaxPooling2D((2, 2)))\n",
        "    # model.add(Conv2D(512, (3, 3), activation='relu'))\n",
        "    # model.add(MaxPooling2D((4, 4)))\n",
        "    model.add(Flatten())\n",
        "    model.add(Dense(128, activation='relu'))\n",
        "    model.add(Dense(len(labels), activation='softmax'))\n",
        "\n",
        "    # Compile the model\n",
        "    model.compile(optimizer='adam', loss='categorical_crossentropy', metrics=['accuracy'])\n",
        "\n",
        "    return model\n",
        "\n",
        "model = initialize_model()\n",
        "model.summary()"
      ]
    },
    {
      "cell_type": "code",
      "source": [],
      "metadata": {
        "id": "pfLInn95jwdM"
      },
      "id": "pfLInn95jwdM",
      "execution_count": 15,
      "outputs": []
    },
    {
      "cell_type": "markdown",
      "id": "44339dcb-1f04-4eb8-b397-351586465166",
      "metadata": {
        "id": "44339dcb-1f04-4eb8-b397-351586465166"
      },
      "source": [
        "#### Preprocess the images"
      ]
    },
    {
      "cell_type": "markdown",
      "id": "bd954312-ba0d-4f1a-8a6e-54457d789f3f",
      "metadata": {
        "id": "bd954312-ba0d-4f1a-8a6e-54457d789f3f"
      },
      "source": [
        "##### Shuffling data"
      ]
    },
    {
      "cell_type": "code",
      "execution_count": 16,
      "id": "a1ab0f84-0d95-479e-94af-c0db8c91480b",
      "metadata": {
        "colab": {
          "base_uri": "https://localhost:8080/",
          "height": 206
        },
        "id": "a1ab0f84-0d95-479e-94af-c0db8c91480b",
        "outputId": "ce16b80f-b88d-451c-bd63-7f9c1b9fb925"
      },
      "outputs": [
        {
          "output_type": "execute_result",
          "data": {
            "text/plain": [
              "                                                 image            name\n",
              "201  [[[58, 60, 81], [58, 59, 80], [58, 59, 80], [5...   Mariano Díaz\n",
              "33   [[[96, 93, 102], [97, 94, 103], [97, 94, 103],...  Éder Militão\n",
              "260  [[[90, 109, 168], [90, 109, 168], [90, 109, 16...           Mendy\n",
              "176  [[[33, 30, 39], [33, 30, 39], [33, 30, 39], [3...           Kroos\n",
              "493  [[[97, 217, 179], [97, 217, 179], [97, 217, 17...           Alaba"
            ],
            "text/html": [
              "\n",
              "  <div id=\"df-fabdabdd-a700-4118-98e7-bd63d1e0b445\" class=\"colab-df-container\">\n",
              "    <div>\n",
              "<style scoped>\n",
              "    .dataframe tbody tr th:only-of-type {\n",
              "        vertical-align: middle;\n",
              "    }\n",
              "\n",
              "    .dataframe tbody tr th {\n",
              "        vertical-align: top;\n",
              "    }\n",
              "\n",
              "    .dataframe thead th {\n",
              "        text-align: right;\n",
              "    }\n",
              "</style>\n",
              "<table border=\"1\" class=\"dataframe\">\n",
              "  <thead>\n",
              "    <tr style=\"text-align: right;\">\n",
              "      <th></th>\n",
              "      <th>image</th>\n",
              "      <th>name</th>\n",
              "    </tr>\n",
              "  </thead>\n",
              "  <tbody>\n",
              "    <tr>\n",
              "      <th>201</th>\n",
              "      <td>[[[58, 60, 81], [58, 59, 80], [58, 59, 80], [5...</td>\n",
              "      <td>Mariano Díaz</td>\n",
              "    </tr>\n",
              "    <tr>\n",
              "      <th>33</th>\n",
              "      <td>[[[96, 93, 102], [97, 94, 103], [97, 94, 103],...</td>\n",
              "      <td>Éder Militão</td>\n",
              "    </tr>\n",
              "    <tr>\n",
              "      <th>260</th>\n",
              "      <td>[[[90, 109, 168], [90, 109, 168], [90, 109, 16...</td>\n",
              "      <td>Mendy</td>\n",
              "    </tr>\n",
              "    <tr>\n",
              "      <th>176</th>\n",
              "      <td>[[[33, 30, 39], [33, 30, 39], [33, 30, 39], [3...</td>\n",
              "      <td>Kroos</td>\n",
              "    </tr>\n",
              "    <tr>\n",
              "      <th>493</th>\n",
              "      <td>[[[97, 217, 179], [97, 217, 179], [97, 217, 17...</td>\n",
              "      <td>Alaba</td>\n",
              "    </tr>\n",
              "  </tbody>\n",
              "</table>\n",
              "</div>\n",
              "    <div class=\"colab-df-buttons\">\n",
              "\n",
              "  <div class=\"colab-df-container\">\n",
              "    <button class=\"colab-df-convert\" onclick=\"convertToInteractive('df-fabdabdd-a700-4118-98e7-bd63d1e0b445')\"\n",
              "            title=\"Convert this dataframe to an interactive table.\"\n",
              "            style=\"display:none;\">\n",
              "\n",
              "  <svg xmlns=\"http://www.w3.org/2000/svg\" height=\"24px\" viewBox=\"0 -960 960 960\">\n",
              "    <path d=\"M120-120v-720h720v720H120Zm60-500h600v-160H180v160Zm220 220h160v-160H400v160Zm0 220h160v-160H400v160ZM180-400h160v-160H180v160Zm440 0h160v-160H620v160ZM180-180h160v-160H180v160Zm440 0h160v-160H620v160Z\"/>\n",
              "  </svg>\n",
              "    </button>\n",
              "\n",
              "  <style>\n",
              "    .colab-df-container {\n",
              "      display:flex;\n",
              "      gap: 12px;\n",
              "    }\n",
              "\n",
              "    .colab-df-convert {\n",
              "      background-color: #E8F0FE;\n",
              "      border: none;\n",
              "      border-radius: 50%;\n",
              "      cursor: pointer;\n",
              "      display: none;\n",
              "      fill: #1967D2;\n",
              "      height: 32px;\n",
              "      padding: 0 0 0 0;\n",
              "      width: 32px;\n",
              "    }\n",
              "\n",
              "    .colab-df-convert:hover {\n",
              "      background-color: #E2EBFA;\n",
              "      box-shadow: 0px 1px 2px rgba(60, 64, 67, 0.3), 0px 1px 3px 1px rgba(60, 64, 67, 0.15);\n",
              "      fill: #174EA6;\n",
              "    }\n",
              "\n",
              "    .colab-df-buttons div {\n",
              "      margin-bottom: 4px;\n",
              "    }\n",
              "\n",
              "    [theme=dark] .colab-df-convert {\n",
              "      background-color: #3B4455;\n",
              "      fill: #D2E3FC;\n",
              "    }\n",
              "\n",
              "    [theme=dark] .colab-df-convert:hover {\n",
              "      background-color: #434B5C;\n",
              "      box-shadow: 0px 1px 3px 1px rgba(0, 0, 0, 0.15);\n",
              "      filter: drop-shadow(0px 1px 2px rgba(0, 0, 0, 0.3));\n",
              "      fill: #FFFFFF;\n",
              "    }\n",
              "  </style>\n",
              "\n",
              "    <script>\n",
              "      const buttonEl =\n",
              "        document.querySelector('#df-fabdabdd-a700-4118-98e7-bd63d1e0b445 button.colab-df-convert');\n",
              "      buttonEl.style.display =\n",
              "        google.colab.kernel.accessAllowed ? 'block' : 'none';\n",
              "\n",
              "      async function convertToInteractive(key) {\n",
              "        const element = document.querySelector('#df-fabdabdd-a700-4118-98e7-bd63d1e0b445');\n",
              "        const dataTable =\n",
              "          await google.colab.kernel.invokeFunction('convertToInteractive',\n",
              "                                                    [key], {});\n",
              "        if (!dataTable) return;\n",
              "\n",
              "        const docLinkHtml = 'Like what you see? Visit the ' +\n",
              "          '<a target=\"_blank\" href=https://colab.research.google.com/notebooks/data_table.ipynb>data table notebook</a>'\n",
              "          + ' to learn more about interactive tables.';\n",
              "        element.innerHTML = '';\n",
              "        dataTable['output_type'] = 'display_data';\n",
              "        await google.colab.output.renderOutput(dataTable, element);\n",
              "        const docLink = document.createElement('div');\n",
              "        docLink.innerHTML = docLinkHtml;\n",
              "        element.appendChild(docLink);\n",
              "      }\n",
              "    </script>\n",
              "  </div>\n",
              "\n",
              "\n",
              "<div id=\"df-79a3019c-d206-4343-9a10-8505e643321e\">\n",
              "  <button class=\"colab-df-quickchart\" onclick=\"quickchart('df-79a3019c-d206-4343-9a10-8505e643321e')\"\n",
              "            title=\"Suggest charts\"\n",
              "            style=\"display:none;\">\n",
              "\n",
              "<svg xmlns=\"http://www.w3.org/2000/svg\" height=\"24px\"viewBox=\"0 0 24 24\"\n",
              "     width=\"24px\">\n",
              "    <g>\n",
              "        <path d=\"M19 3H5c-1.1 0-2 .9-2 2v14c0 1.1.9 2 2 2h14c1.1 0 2-.9 2-2V5c0-1.1-.9-2-2-2zM9 17H7v-7h2v7zm4 0h-2V7h2v10zm4 0h-2v-4h2v4z\"/>\n",
              "    </g>\n",
              "</svg>\n",
              "  </button>\n",
              "\n",
              "<style>\n",
              "  .colab-df-quickchart {\n",
              "      --bg-color: #E8F0FE;\n",
              "      --fill-color: #1967D2;\n",
              "      --hover-bg-color: #E2EBFA;\n",
              "      --hover-fill-color: #174EA6;\n",
              "      --disabled-fill-color: #AAA;\n",
              "      --disabled-bg-color: #DDD;\n",
              "  }\n",
              "\n",
              "  [theme=dark] .colab-df-quickchart {\n",
              "      --bg-color: #3B4455;\n",
              "      --fill-color: #D2E3FC;\n",
              "      --hover-bg-color: #434B5C;\n",
              "      --hover-fill-color: #FFFFFF;\n",
              "      --disabled-bg-color: #3B4455;\n",
              "      --disabled-fill-color: #666;\n",
              "  }\n",
              "\n",
              "  .colab-df-quickchart {\n",
              "    background-color: var(--bg-color);\n",
              "    border: none;\n",
              "    border-radius: 50%;\n",
              "    cursor: pointer;\n",
              "    display: none;\n",
              "    fill: var(--fill-color);\n",
              "    height: 32px;\n",
              "    padding: 0;\n",
              "    width: 32px;\n",
              "  }\n",
              "\n",
              "  .colab-df-quickchart:hover {\n",
              "    background-color: var(--hover-bg-color);\n",
              "    box-shadow: 0 1px 2px rgba(60, 64, 67, 0.3), 0 1px 3px 1px rgba(60, 64, 67, 0.15);\n",
              "    fill: var(--button-hover-fill-color);\n",
              "  }\n",
              "\n",
              "  .colab-df-quickchart-complete:disabled,\n",
              "  .colab-df-quickchart-complete:disabled:hover {\n",
              "    background-color: var(--disabled-bg-color);\n",
              "    fill: var(--disabled-fill-color);\n",
              "    box-shadow: none;\n",
              "  }\n",
              "\n",
              "  .colab-df-spinner {\n",
              "    border: 2px solid var(--fill-color);\n",
              "    border-color: transparent;\n",
              "    border-bottom-color: var(--fill-color);\n",
              "    animation:\n",
              "      spin 1s steps(1) infinite;\n",
              "  }\n",
              "\n",
              "  @keyframes spin {\n",
              "    0% {\n",
              "      border-color: transparent;\n",
              "      border-bottom-color: var(--fill-color);\n",
              "      border-left-color: var(--fill-color);\n",
              "    }\n",
              "    20% {\n",
              "      border-color: transparent;\n",
              "      border-left-color: var(--fill-color);\n",
              "      border-top-color: var(--fill-color);\n",
              "    }\n",
              "    30% {\n",
              "      border-color: transparent;\n",
              "      border-left-color: var(--fill-color);\n",
              "      border-top-color: var(--fill-color);\n",
              "      border-right-color: var(--fill-color);\n",
              "    }\n",
              "    40% {\n",
              "      border-color: transparent;\n",
              "      border-right-color: var(--fill-color);\n",
              "      border-top-color: var(--fill-color);\n",
              "    }\n",
              "    60% {\n",
              "      border-color: transparent;\n",
              "      border-right-color: var(--fill-color);\n",
              "    }\n",
              "    80% {\n",
              "      border-color: transparent;\n",
              "      border-right-color: var(--fill-color);\n",
              "      border-bottom-color: var(--fill-color);\n",
              "    }\n",
              "    90% {\n",
              "      border-color: transparent;\n",
              "      border-bottom-color: var(--fill-color);\n",
              "    }\n",
              "  }\n",
              "</style>\n",
              "\n",
              "  <script>\n",
              "    async function quickchart(key) {\n",
              "      const quickchartButtonEl =\n",
              "        document.querySelector('#' + key + ' button');\n",
              "      quickchartButtonEl.disabled = true;  // To prevent multiple clicks.\n",
              "      quickchartButtonEl.classList.add('colab-df-spinner');\n",
              "      try {\n",
              "        const charts = await google.colab.kernel.invokeFunction(\n",
              "            'suggestCharts', [key], {});\n",
              "      } catch (error) {\n",
              "        console.error('Error during call to suggestCharts:', error);\n",
              "      }\n",
              "      quickchartButtonEl.classList.remove('colab-df-spinner');\n",
              "      quickchartButtonEl.classList.add('colab-df-quickchart-complete');\n",
              "    }\n",
              "    (() => {\n",
              "      let quickchartButtonEl =\n",
              "        document.querySelector('#df-79a3019c-d206-4343-9a10-8505e643321e button');\n",
              "      quickchartButtonEl.style.display =\n",
              "        google.colab.kernel.accessAllowed ? 'block' : 'none';\n",
              "    })();\n",
              "  </script>\n",
              "</div>\n",
              "    </div>\n",
              "  </div>\n"
            ]
          },
          "metadata": {},
          "execution_count": 16
        }
      ],
      "source": [
        "data = pd.DataFrame(img_label_dict)\n",
        "\n",
        "data = data.sample(frac = 1)\n",
        "data.head()"
      ]
    },
    {
      "cell_type": "markdown",
      "id": "e7a2190f-175c-49dd-80e2-384d8216e27b",
      "metadata": {
        "id": "e7a2190f-175c-49dd-80e2-384d8216e27b"
      },
      "source": [
        "##### Resizing images"
      ]
    },
    {
      "cell_type": "code",
      "execution_count": 17,
      "id": "52d50930-3949-4aa4-872c-3911be1b9722",
      "metadata": {
        "id": "52d50930-3949-4aa4-872c-3911be1b9722"
      },
      "outputs": [],
      "source": [
        "height = common[0]\n",
        "width = common[1]\n",
        "\n",
        "resize = layers.Resizing(height, width)"
      ]
    },
    {
      "cell_type": "code",
      "source": [
        "# data['image'].to_numpy()[0].shape"
      ],
      "metadata": {
        "id": "PvbBVzMJf8v1"
      },
      "id": "PvbBVzMJf8v1",
      "execution_count": 18,
      "outputs": []
    },
    {
      "cell_type": "code",
      "source": [
        "\n",
        "# test1 = resize(data['image'].to_numpy()[2])"
      ],
      "metadata": {
        "id": "esh9u9ApgFbT"
      },
      "id": "esh9u9ApgFbT",
      "execution_count": 19,
      "outputs": []
    },
    {
      "cell_type": "code",
      "source": [
        "def remove_bw(images, names): # removing black&white images\n",
        "  without_bw = []\n",
        "\n",
        "  for ind, img in enumerate(images):\n",
        "    if img.shape[-1] == 3:\n",
        "      without_bw.append(img)\n",
        "    else:\n",
        "      del names[ind]\n",
        "\n",
        "  return without_bw, names\n",
        "\n",
        "valid_img, names = remove_bw(data['image'].to_numpy(), data['name'])"
      ],
      "metadata": {
        "id": "WV5zOOCHiFn4"
      },
      "id": "WV5zOOCHiFn4",
      "execution_count": 20,
      "outputs": []
    },
    {
      "cell_type": "code",
      "execution_count": 21,
      "id": "e2bcd378-e3c6-433a-ab07-a2cb80aaacad",
      "metadata": {
        "id": "e2bcd378-e3c6-433a-ab07-a2cb80aaacad"
      },
      "outputs": [],
      "source": [
        "preprocessed_img = []\n",
        "\n",
        "for img in valid_img:\n",
        "  preprocessed_img.append(resize(img))"
      ]
    },
    {
      "cell_type": "code",
      "source": [],
      "metadata": {
        "id": "58Pfeyx_rzJi"
      },
      "id": "58Pfeyx_rzJi",
      "execution_count": 21,
      "outputs": []
    },
    {
      "cell_type": "code",
      "execution_count": 22,
      "id": "c2efb890-587f-44e4-9ced-3523f8e5e1af",
      "metadata": {
        "tags": [],
        "id": "c2efb890-587f-44e4-9ced-3523f8e5e1af"
      },
      "outputs": [],
      "source": [
        "# preprocessed_img = np.array(preprocessed_img)\n",
        "# preprocessed_img.shape\n",
        "\n",
        "# img_data = data['image'].to_numpy()\n",
        "# img_data.shape\n",
        "\n",
        "# preprocessed_img = np.array(preprocessed_img)\n",
        "# preprocessed_img.shape"
      ]
    },
    {
      "cell_type": "markdown",
      "id": "5cc6d310-c386-4478-ab4e-78cafa77f04c",
      "metadata": {
        "id": "5cc6d310-c386-4478-ab4e-78cafa77f04c"
      },
      "source": [
        "##### Removing 1-channel images (black&white)"
      ]
    },
    {
      "cell_type": "code",
      "execution_count": 23,
      "id": "736b4cb8-50f3-4803-ad38-88a40df0c0f3",
      "metadata": {
        "id": "736b4cb8-50f3-4803-ad38-88a40df0c0f3"
      },
      "outputs": [],
      "source": [
        "# print(shapes.index((408, 612)))\n",
        "# print(shapes.index((418, 612)))"
      ]
    },
    {
      "cell_type": "code",
      "execution_count": 24,
      "id": "2aea0a5f-81d1-4b76-8d14-987c215e1215",
      "metadata": {
        "id": "2aea0a5f-81d1-4b76-8d14-987c215e1215"
      },
      "outputs": [],
      "source": [
        "# total_labels = data['name']\n",
        "# del total_labels[217]\n",
        "# del total_labels[155]\n"
      ]
    },
    {
      "cell_type": "markdown",
      "id": "19e8a2a4-ae69-41b1-9dfc-c4b05a168b03",
      "metadata": {
        "id": "19e8a2a4-ae69-41b1-9dfc-c4b05a168b03"
      },
      "source": [
        "#### Splitting data"
      ]
    },
    {
      "cell_type": "code",
      "execution_count": 25,
      "id": "1cc89d2a-f576-43f0-991c-9f9531188ae1",
      "metadata": {
        "colab": {
          "base_uri": "https://localhost:8080/"
        },
        "id": "1cc89d2a-f576-43f0-991c-9f9531188ae1",
        "outputId": "0f8354ce-6fef-488a-a70b-5ebe375ddda0"
      },
      "outputs": [
        {
          "output_type": "execute_result",
          "data": {
            "text/plain": [
              "array([[0., 0., 0., ..., 0., 0., 0.],\n",
              "       [0., 0., 0., ..., 0., 0., 0.],\n",
              "       [0., 0., 0., ..., 0., 0., 0.],\n",
              "       ...,\n",
              "       [0., 0., 0., ..., 0., 0., 0.],\n",
              "       [0., 0., 0., ..., 0., 0., 0.],\n",
              "       [0., 0., 0., ..., 0., 1., 0.]], dtype=float32)"
            ]
          },
          "metadata": {},
          "execution_count": 25
        }
      ],
      "source": [
        "X = preprocessed_img\n",
        "y = np.array(names)\n",
        "\n",
        "label_encoder = LabelEncoder()\n",
        "y_encoded = label_encoder.fit_transform(y)\n",
        "# y_encoded\n",
        "\n",
        "y_cat = to_categorical(y=y_encoded)\n",
        "y_cat"
      ]
    },
    {
      "cell_type": "code",
      "source": [
        "# X.shape, y.shape"
      ],
      "metadata": {
        "id": "k2nkgMKClUnG"
      },
      "id": "k2nkgMKClUnG",
      "execution_count": 26,
      "outputs": []
    },
    {
      "cell_type": "code",
      "execution_count": 27,
      "id": "c505a16a-c6db-470d-91df-978734e5506c",
      "metadata": {
        "id": "c505a16a-c6db-470d-91df-978734e5506c"
      },
      "outputs": [],
      "source": [
        "X_train, X_test, y_train, y_test = train_test_split(X, y_cat, test_size=0.3, random_state=42, stratify=y_cat)"
      ]
    },
    {
      "cell_type": "code",
      "source": [
        "del preprocessed_img\n",
        "del X\n",
        "del y\n",
        "del data\n",
        "del img_label_dict\n",
        "del y_encoded\n",
        "\n",
        "gc.collect()"
      ],
      "metadata": {
        "colab": {
          "base_uri": "https://localhost:8080/"
        },
        "id": "NaOL7P_I8lMM",
        "outputId": "5700dd42-b00d-4857-89f5-1c9dfa7bd0ba"
      },
      "id": "NaOL7P_I8lMM",
      "execution_count": 28,
      "outputs": [
        {
          "output_type": "execute_result",
          "data": {
            "text/plain": [
              "159"
            ]
          },
          "metadata": {},
          "execution_count": 28
        }
      ]
    },
    {
      "cell_type": "code",
      "source": [
        "# X_train.shape"
      ],
      "metadata": {
        "id": "L54zv5e78Hdh"
      },
      "id": "L54zv5e78Hdh",
      "execution_count": 29,
      "outputs": []
    },
    {
      "cell_type": "code",
      "source": [
        "# X_test.shape"
      ],
      "metadata": {
        "id": "EjGyWkhL8Iti"
      },
      "id": "EjGyWkhL8Iti",
      "execution_count": 30,
      "outputs": []
    },
    {
      "cell_type": "code",
      "source": [
        "len(X_train)"
      ],
      "metadata": {
        "colab": {
          "base_uri": "https://localhost:8080/"
        },
        "id": "jLUVGQSKIjGN",
        "outputId": "d152ca35-8041-4442-c3b1-973cc6c92828"
      },
      "id": "jLUVGQSKIjGN",
      "execution_count": 31,
      "outputs": [
        {
          "output_type": "execute_result",
          "data": {
            "text/plain": [
              "406"
            ]
          },
          "metadata": {},
          "execution_count": 31
        }
      ]
    },
    {
      "cell_type": "code",
      "source": [
        "y_train.shape"
      ],
      "metadata": {
        "colab": {
          "base_uri": "https://localhost:8080/"
        },
        "id": "lwXMbAsH8LSn",
        "outputId": "0e21b206-d103-47b9-e2e4-4fb6667a4529"
      },
      "id": "lwXMbAsH8LSn",
      "execution_count": 32,
      "outputs": [
        {
          "output_type": "execute_result",
          "data": {
            "text/plain": [
              "(406, 20)"
            ]
          },
          "metadata": {},
          "execution_count": 32
        }
      ]
    },
    {
      "cell_type": "code",
      "source": [
        "y_test.shape"
      ],
      "metadata": {
        "colab": {
          "base_uri": "https://localhost:8080/"
        },
        "id": "fIBNPj878Ml9",
        "outputId": "dd147a2b-9a75-47f5-f5b7-22aa662fb596"
      },
      "id": "fIBNPj878Ml9",
      "execution_count": 33,
      "outputs": [
        {
          "output_type": "execute_result",
          "data": {
            "text/plain": [
              "(175, 20)"
            ]
          },
          "metadata": {},
          "execution_count": 33
        }
      ]
    },
    {
      "cell_type": "markdown",
      "id": "4c0eb5be-cc89-4b19-8dd5-2392aa556a6a",
      "metadata": {
        "id": "4c0eb5be-cc89-4b19-8dd5-2392aa556a6a"
      },
      "source": [
        "#### Fitting the model"
      ]
    },
    {
      "cell_type": "code",
      "source": [
        "np.mean(y_test, axis=0)"
      ],
      "metadata": {
        "colab": {
          "base_uri": "https://localhost:8080/"
        },
        "id": "79VCl-sm6ua-",
        "outputId": "05f0586d-c25b-4bff-9735-ec567e4c48b4"
      },
      "id": "79VCl-sm6ua-",
      "execution_count": 34,
      "outputs": [
        {
          "output_type": "execute_result",
          "data": {
            "text/plain": [
              "array([0.05142857, 0.05142857, 0.05142857, 0.05142857, 0.05142857,\n",
              "       0.05142857, 0.05142857, 0.05142857, 0.05142857, 0.05142857,\n",
              "       0.05142857, 0.05142857, 0.05142857, 0.04571429, 0.05142857,\n",
              "       0.05142857, 0.05142857, 0.05142857, 0.02857143, 0.05142857],\n",
              "      dtype=float32)"
            ]
          },
          "metadata": {},
          "execution_count": 34
        }
      ]
    },
    {
      "cell_type": "code",
      "execution_count": 35,
      "id": "14f469c1-5774-4b80-9257-eb3b80415224",
      "metadata": {
        "colab": {
          "base_uri": "https://localhost:8080/"
        },
        "id": "14f469c1-5774-4b80-9257-eb3b80415224",
        "outputId": "b8dcdaaa-0669-48dd-dd6e-ebeb959ecb13"
      },
      "outputs": [
        {
          "output_type": "execute_result",
          "data": {
            "text/plain": [
              "array([0.05172414, 0.05172414, 0.05172414, 0.04926108, 0.05172414,\n",
              "       0.04926108, 0.04679803, 0.05172414, 0.05172414, 0.05172414,\n",
              "       0.05172414, 0.05172414, 0.05172414, 0.04926108, 0.05172414,\n",
              "       0.05172414, 0.05172414, 0.05172414, 0.02955665, 0.05172414],\n",
              "      dtype=float32)"
            ]
          },
          "metadata": {},
          "execution_count": 35
        }
      ],
      "source": [
        "np.mean(y_train, axis=0)"
      ]
    },
    {
      "cell_type": "code",
      "source": [
        "f\"Baseline: {np.max(np.mean(y_train, axis=0))}\""
      ],
      "metadata": {
        "colab": {
          "base_uri": "https://localhost:8080/",
          "height": 35
        },
        "id": "pvG_D9TML4vU",
        "outputId": "01c277f7-e3f3-46ac-f0d5-c6210777310e"
      },
      "id": "pvG_D9TML4vU",
      "execution_count": 36,
      "outputs": [
        {
          "output_type": "execute_result",
          "data": {
            "text/plain": [
              "'Baseline: 0.0517241396009922'"
            ],
            "application/vnd.google.colaboratory.intrinsic+json": {
              "type": "string"
            }
          },
          "metadata": {},
          "execution_count": 36
        }
      ]
    },
    {
      "cell_type": "code",
      "source": [
        "X_train = tf.convert_to_tensor(X_train)"
      ],
      "metadata": {
        "id": "deXM_t_CzDUl"
      },
      "id": "deXM_t_CzDUl",
      "execution_count": 37,
      "outputs": []
    },
    {
      "cell_type": "code",
      "source": [
        "X_test = tf.convert_to_tensor(X_test)"
      ],
      "metadata": {
        "id": "T_4HMKe6Kh10"
      },
      "id": "T_4HMKe6Kh10",
      "execution_count": 38,
      "outputs": []
    },
    {
      "cell_type": "code",
      "source": [
        "gc.collect()"
      ],
      "metadata": {
        "colab": {
          "base_uri": "https://localhost:8080/"
        },
        "id": "mBqt2OOoKoKL",
        "outputId": "360bff3c-49f8-424e-8bf4-d4cf42182fad"
      },
      "id": "mBqt2OOoKoKL",
      "execution_count": 39,
      "outputs": [
        {
          "output_type": "execute_result",
          "data": {
            "text/plain": [
              "0"
            ]
          },
          "metadata": {},
          "execution_count": 39
        }
      ]
    },
    {
      "cell_type": "code",
      "execution_count": null,
      "id": "54398fa8-0b35-4dcb-8859-b791b18bf8e2",
      "metadata": {
        "colab": {
          "base_uri": "https://localhost:8080/"
        },
        "id": "54398fa8-0b35-4dcb-8859-b791b18bf8e2",
        "outputId": "588ad19a-d306-4f48-8845-61a55bcd55a8"
      },
      "outputs": [
        {
          "output_type": "stream",
          "name": "stdout",
          "text": [
            "Epoch 1/20\n",
            " 1/13 [=>............................] - ETA: 4:08 - loss: 34.4900 - accuracy: 0.0625"
          ]
        }
      ],
      "source": [
        "es = EarlyStopping(monitor='accuracy', patience=3)\n",
        "\n",
        "try:\n",
        "  del model\n",
        "except:\n",
        "  pass\n",
        "\n",
        "model = initialize_model()\n",
        "history = model.fit(X_train, y_train, epochs=20, batch_size=32, verbose=1, callbacks=[es], validation_data=(X_test, y_test))"
      ]
    },
    {
      "cell_type": "code",
      "source": [
        "history.history"
      ],
      "metadata": {
        "id": "vPdJdHu1uiL_"
      },
      "id": "vPdJdHu1uiL_",
      "execution_count": null,
      "outputs": []
    },
    {
      "cell_type": "markdown",
      "id": "9c2d8f96-347f-461e-ae2c-f9f669a2cf8a",
      "metadata": {
        "id": "9c2d8f96-347f-461e-ae2c-f9f669a2cf8a"
      },
      "source": [
        "#### Evaluating prediction"
      ]
    },
    {
      "cell_type": "code",
      "execution_count": null,
      "id": "4ae60ec5-a13b-4f9e-91d9-031be1855f3f",
      "metadata": {
        "id": "4ae60ec5-a13b-4f9e-91d9-031be1855f3f"
      },
      "outputs": [],
      "source": [
        "model.evaluate(X_test, y_test)"
      ]
    },
    {
      "cell_type": "code",
      "execution_count": null,
      "id": "f04f7db3-c79b-4f95-ac86-387362bc4e88",
      "metadata": {
        "id": "f04f7db3-c79b-4f95-ac86-387362bc4e88"
      },
      "outputs": [],
      "source": [
        "model.summary()"
      ]
    },
    {
      "cell_type": "code",
      "source": [],
      "metadata": {
        "id": "zCV6X3gy9d3H"
      },
      "id": "zCV6X3gy9d3H",
      "execution_count": null,
      "outputs": []
    }
  ],
  "metadata": {
    "kernelspec": {
      "display_name": "Python 3",
      "name": "python3"
    },
    "language_info": {
      "codemirror_mode": {
        "name": "ipython",
        "version": 3
      },
      "file_extension": ".py",
      "mimetype": "text/x-python",
      "name": "python",
      "nbconvert_exporter": "python",
      "pygments_lexer": "ipython3",
      "version": "3.10.6"
    },
    "colab": {
      "provenance": [],
      "gpuType": "T4"
    },
    "accelerator": "GPU"
  },
  "nbformat": 4,
  "nbformat_minor": 5
}