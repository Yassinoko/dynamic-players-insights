{
 "cells": [
  {
   "cell_type": "markdown",
   "id": "76352a42",
   "metadata": {},
   "source": [
    "# Tests"
   ]
  },
  {
   "cell_type": "code",
   "execution_count": 1,
   "id": "4bd387e9",
   "metadata": {},
   "outputs": [],
   "source": [
    "import pandas as pd\n",
    "import numpy as np"
   ]
  },
  {
   "cell_type": "code",
   "execution_count": 2,
   "id": "7b31ecd2",
   "metadata": {},
   "outputs": [],
   "source": [
    "import face_recognition"
   ]
  },
  {
   "cell_type": "code",
   "execution_count": 3,
   "id": "e5197f51",
   "metadata": {},
   "outputs": [],
   "source": [
    "image = face_recognition.load_image_file(\"raw_data/faces/Bukayo Saka_0.jpg\")\n",
    "face_locations = face_recognition.face_locations(image)\n",
    "face_landmarks_list = face_recognition.face_landmarks(image)"
   ]
  },
  {
   "cell_type": "code",
   "execution_count": 4,
   "id": "26c2090b",
   "metadata": {},
   "outputs": [],
   "source": [
    "unknown_image_1 = face_recognition.load_image_file(\"raw_data/faces/Bukayo Saka_1.jpg\")\n",
    "unknown_image_2 = face_recognition.load_image_file(\"raw_data/faces/Bukayo Saka_4.jpg\")\n",
    "unknown_image_3 = face_recognition.load_image_file(\"raw_data/faces/Harry Kane_0.jpg\")"
   ]
  },
  {
   "cell_type": "code",
   "execution_count": 5,
   "id": "f8873ac5",
   "metadata": {},
   "outputs": [],
   "source": [
    "image_encoding = face_recognition.face_encodings(image)[0]\n",
    "unknown_1_encoding = face_recognition.face_encodings(unknown_image_1)[0]\n",
    "unknown_2_encoding = face_recognition.face_encodings(unknown_image_2)[0]\n",
    "unknown_3_encoding = face_recognition.face_encodings(unknown_image_3)[0]"
   ]
  },
  {
   "cell_type": "code",
   "execution_count": 6,
   "id": "4bdcef15",
   "metadata": {
    "scrolled": true
   },
   "outputs": [
    {
     "data": {
      "text/plain": [
       "[False]"
      ]
     },
     "execution_count": 6,
     "metadata": {},
     "output_type": "execute_result"
    }
   ],
   "source": [
    "results = face_recognition.compare_faces([image_encoding], unknown_3_encoding)\n",
    "results"
   ]
  },
  {
   "cell_type": "markdown",
   "id": "8f5d2012",
   "metadata": {},
   "source": [
    "# Basic scaling"
   ]
  },
  {
   "cell_type": "code",
   "execution_count": 7,
   "id": "a5a6a6b2",
   "metadata": {},
   "outputs": [],
   "source": [
    "players_path = {\n",
    "    \"Bukayo Saka\" : \"raw_data/faces/Bukayo Saka_0.jpg\", \n",
    "    \"Harry Kane\" : \"raw_data/faces/Harry Kane_0.jpg\"\n",
    "}\n",
    "\n",
    "player_images = []\n",
    "player_faces = []\n",
    "player_encodings = []\n",
    "player_names = []"
   ]
  },
  {
   "cell_type": "code",
   "execution_count": 8,
   "id": "cc44e661",
   "metadata": {},
   "outputs": [],
   "source": [
    "for player, path in players_path.items() : \n",
    "    player_names.append(player)\n",
    "    player_images.append(face_recognition.load_image_file(path))\n",
    "    player_faces.append(face_recognition.face_locations(image))\n",
    "    player_encodings.append(face_recognition.face_encodings(image)[0])"
   ]
  },
  {
   "cell_type": "code",
   "execution_count": 9,
   "id": "ebb4600f",
   "metadata": {},
   "outputs": [],
   "source": [
    "saka_test = face_recognition.load_image_file(\"raw_data/faces/saka_test.jpg\")\n",
    "saka_encoding = face_recognition.face_encodings(saka_test)\n",
    "saka_test_2 = face_recognition.load_image_file(\"raw_data/faces/saka_test_2.jpg\")\n",
    "saka_encoding_2 = face_recognition.face_encodings(saka_test_2)"
   ]
  },
  {
   "cell_type": "code",
   "execution_count": 10,
   "id": "e43be22b",
   "metadata": {},
   "outputs": [],
   "source": [
    "unknown_image = face_recognition.load_image_file(\"raw_data/faces/saka_test.jpg\")\n",
    "unknown_face_encodings = face_recognition.face_encodings(unknown_image)"
   ]
  },
  {
   "cell_type": "code",
   "execution_count": 11,
   "id": "f3949966",
   "metadata": {},
   "outputs": [
    {
     "name": "stdout",
     "output_type": "stream",
     "text": [
      "The person in the image is: Unknown\n"
     ]
    }
   ],
   "source": [
    "for unknown_encoding in unknown_face_encodings:\n",
    "    results = face_recognition.compare_faces(player_encodings, unknown_encoding)\n",
    "    name = \"Unknown\"\n",
    "\n",
    "    # Check if there's a match\n",
    "    if True in results:\n",
    "        match_index = results.index(True)\n",
    "        name = player_names[match_index]\n",
    "\n",
    "    print(f\"The person in the image is: {name}\")"
   ]
  },
  {
   "cell_type": "markdown",
   "id": "f63da74f",
   "metadata": {},
   "source": [
    "# Average scaling"
   ]
  },
  {
   "cell_type": "code",
   "execution_count": 12,
   "id": "4ee9a70e",
   "metadata": {},
   "outputs": [],
   "source": [
    "import os\n",
    "\n",
    "# Initialize the dictionary for known people paths\n",
    "players_path = {}\n",
    "player_names = [\"Bukayo Saka\", \"Harry Kane\"]\n",
    "\n",
    "# Create paths for Bukayo Saka and Harry Kane\n",
    "for player in player_names :\n",
    "    paths = [f\"raw_data/faces/{player}_{i}.jpg\" for i in range(30)]\n",
    "    players_path[player] = paths\n",
    "\n",
    "player_encodings = []\n",
    "known_face_names = []\n",
    "\n",
    "# Load and encode known faces (multiple images per person)\n",
    "for person_name, person_paths in players_path.items():\n",
    "    face_encodings = []\n",
    "    for person_path in person_paths:\n",
    "        image = face_recognition.load_image_file(person_path)\n",
    "        face_encodings_per_image = face_recognition.face_encodings(image)\n",
    "        if len(face_encodings_per_image) > 0:\n",
    "            face_encodings.extend(face_encodings_per_image)\n",
    "\n",
    "    # Aggregate face encodings for the person\n",
    "    if face_encodings:\n",
    "        player_encodings.extend(face_encodings)\n",
    "        known_face_names.extend([person_name] * len(face_encodings))"
   ]
  },
  {
   "cell_type": "code",
   "execution_count": 13,
   "id": "6041035d",
   "metadata": {},
   "outputs": [],
   "source": [
    "# Load an unknown image\n",
    "unknown_image = face_recognition.load_image_file(\"raw_data/faces/saka_test_4.jpg\")\n",
    "unknown_face_encodings = face_recognition.face_encodings(unknown_image)"
   ]
  },
  {
   "cell_type": "code",
   "execution_count": 14,
   "id": "12d975a7",
   "metadata": {},
   "outputs": [],
   "source": [
    "# Compare the unknown face with the known faces\n",
    "for unknown_encoding in unknown_face_encodings:\n",
    "    results = face_recognition.compare_faces(player_encodings, unknown_encoding)\n",
    "    name = \"Unknown\"\n",
    "\n",
    "    # Check if there's a match\n",
    "    if True in results:\n",
    "        match_indices = [i for i, result in enumerate(results) if result]\n",
    "        matched_names = [known_face_names[i] for i in match_indices]\n",
    "        name = ', '.join(set(matched_names))  # Combine multiple matched names if any\n",
    "\n",
    "    print(f\"The person in the image is: {name}\")"
   ]
  },
  {
   "cell_type": "markdown",
   "id": "d529f4d1",
   "metadata": {},
   "source": [
    "# Blurred encodings"
   ]
  },
  {
   "cell_type": "code",
   "execution_count": 15,
   "id": "2914ae51",
   "metadata": {},
   "outputs": [],
   "source": [
    "from PIL import Image, ImageFilter"
   ]
  },
  {
   "cell_type": "code",
   "execution_count": 16,
   "id": "2dc733e2",
   "metadata": {},
   "outputs": [],
   "source": [
    "players_path = {\n",
    "    \"Bukayo Saka\" : \"raw_data/faces/Bukayo Saka_1.jpg\", \n",
    "    \"Harry Kane\" : \"raw_data/faces/Harry Kane_0.jpg\"\n",
    "}\n",
    "\n",
    "player_images = []\n",
    "player_faces = []\n",
    "player_encodings = []\n",
    "player_names = []"
   ]
  },
  {
   "cell_type": "code",
   "execution_count": 17,
   "id": "845d4e9a",
   "metadata": {
    "scrolled": true
   },
   "outputs": [],
   "source": [
    "for player, path in players_path.items() : \n",
    "    player_names.append(player)\n",
    "    player_images.append(face_recognition.load_image_file(path))\n",
    "    player_faces.append(face_recognition.face_locations(image))\n",
    "    player_encodings.append(face_recognition.face_encodings(image)[0])"
   ]
  },
  {
   "cell_type": "code",
   "execution_count": 18,
   "id": "25f9dac4",
   "metadata": {},
   "outputs": [],
   "source": [
    "saka_test = face_recognition.load_image_file(\"raw_data/faces/saka_test_2.jpg\")\n",
    "\n",
    "saka_test_pil = Image.fromarray(saka_test)\n",
    "\n",
    "blurred_pil_image = saka_test_pil.filter(ImageFilter.GaussianBlur(radius=10))\n",
    "\n",
    "blurred_image_array = np.array(blurred_pil_image)\n",
    "\n",
    "unknown_face_encodings = face_recognition.face_encodings(blurred_image_array)"
   ]
  },
  {
   "cell_type": "code",
   "execution_count": 19,
   "id": "a64a7840",
   "metadata": {},
   "outputs": [],
   "source": [
    "for unknown_encoding in unknown_face_encodings:\n",
    "    results = face_recognition.compare_faces(player_encodings, unknown_encoding)\n",
    "    name = \"Unknown\"\n",
    "\n",
    "    # Check if there's a match\n",
    "    if True in results:\n",
    "        match_index = results.index(True)\n",
    "        name = player_names[match_index]\n",
    "\n",
    "    print(f\"The person in the image is: {name}\")"
   ]
  }
 ],
 "metadata": {
  "kernelspec": {
   "display_name": "Python 3 (ipykernel)",
   "language": "python",
   "name": "python3"
  },
  "language_info": {
   "codemirror_mode": {
    "name": "ipython",
    "version": 3
   },
   "file_extension": ".py",
   "mimetype": "text/x-python",
   "name": "python",
   "nbconvert_exporter": "python",
   "pygments_lexer": "ipython3",
   "version": "3.10.6"
  },
  "toc": {
   "base_numbering": 1,
   "nav_menu": {},
   "number_sections": true,
   "sideBar": true,
   "skip_h1_title": false,
   "title_cell": "Table of Contents",
   "title_sidebar": "Contents",
   "toc_cell": false,
   "toc_position": {},
   "toc_section_display": true,
   "toc_window_display": false
  }
 },
 "nbformat": 4,
 "nbformat_minor": 5
}
