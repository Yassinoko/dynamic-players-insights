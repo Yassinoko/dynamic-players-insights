{
 "cells": [
  {
   "cell_type": "code",
   "execution_count": 1,
   "id": "2472412f",
   "metadata": {},
   "outputs": [],
   "source": [
    "import pandas as pd\n",
    "import numpy as np"
   ]
  },
  {
   "cell_type": "code",
   "execution_count": 2,
   "id": "c8ad6ad6",
   "metadata": {},
   "outputs": [],
   "source": [
    "from sklearn.preprocessing import LabelEncoder"
   ]
  },
  {
   "cell_type": "code",
   "execution_count": 3,
   "id": "c13bf315",
   "metadata": {},
   "outputs": [],
   "source": [
    "attacking = pd.read_csv(\"raw_data/stats/attacking.csv\")\n",
    "attempts = pd.read_csv(\"raw_data/stats/attempts.csv\")\n",
    "defending = pd.read_csv(\"raw_data/stats/defending.csv\")\n",
    "disciplinary = pd.read_csv(\"raw_data/stats/disciplinary.csv\")\n",
    "distribution = pd.read_csv(\"raw_data/stats/distributon.csv\")\n",
    "goalkeeping = pd.read_csv(\"raw_data/stats/goalkeeping.csv\")\n",
    "goals = pd.read_csv(\"raw_data/stats/goals.csv\")\n",
    "key_stats = pd.read_csv(\"raw_data/stats/key_stats.csv\")"
   ]
  },
  {
   "cell_type": "code",
   "execution_count": 4,
   "id": "c878b8ef",
   "metadata": {},
   "outputs": [],
   "source": [
    "def dropping_duplicates(data) :   \n",
    "    print(f'The {data} dataset has {data.duplicated().sum()} duplicate.s')\n",
    "    data = data.drop_duplicates()\n",
    "    return data"
   ]
  },
  {
   "cell_type": "code",
   "execution_count": 5,
   "id": "92a14cbf",
   "metadata": {},
   "outputs": [],
   "source": [
    "def lowercase_strings(data):\n",
    "    for column in data.columns:\n",
    "        if data[column].dtype == 'object':\n",
    "            data[column] = data[column].astype(str).str.lower()\n",
    "    return data"
   ]
  },
  {
   "cell_type": "code",
   "execution_count": 6,
   "id": "055dcbe0",
   "metadata": {},
   "outputs": [],
   "source": [
    "def new_keys(data):\n",
    "    data['key'] = data['player_name'] + '_' + data['club'] + '_' + data['position']\n",
    "    data.set_index('key', inplace=True)\n",
    "    return data"
   ]
  },
  {
   "cell_type": "code",
   "execution_count": 7,
   "id": "d0e4faf7",
   "metadata": {},
   "outputs": [],
   "source": [
    "def encoding_positions(data) : \n",
    "    encoder = LabelEncoder()\n",
    "    encoder.fit(data[\"position\"])\n",
    "    data[\"encoded_position\"] = encoder.transform(data[\"position\"])\n",
    "    return data"
   ]
  }
 ],
 "metadata": {
  "kernelspec": {
   "display_name": "Python 3 (ipykernel)",
   "language": "python",
   "name": "python3"
  },
  "language_info": {
   "codemirror_mode": {
    "name": "ipython",
    "version": 3
   },
   "file_extension": ".py",
   "mimetype": "text/x-python",
   "name": "python",
   "nbconvert_exporter": "python",
   "pygments_lexer": "ipython3",
   "version": "3.10.6"
  },
  "toc": {
   "base_numbering": 1,
   "nav_menu": {},
   "number_sections": true,
   "sideBar": true,
   "skip_h1_title": false,
   "title_cell": "Table of Contents",
   "title_sidebar": "Contents",
   "toc_cell": false,
   "toc_position": {},
   "toc_section_display": true,
   "toc_window_display": false
  }
 },
 "nbformat": 4,
 "nbformat_minor": 5
}
