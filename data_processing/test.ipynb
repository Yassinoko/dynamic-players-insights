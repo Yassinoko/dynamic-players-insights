{
 "cells": [
  {
   "cell_type": "code",
   "execution_count": 1,
   "metadata": {},
   "outputs": [],
   "source": [
    "import os\n",
    "import requests\n",
    "import time\n",
    "import pandas as pd\n",
    "from bs4 import BeautifulSoup\n",
    "from urllib.parse import quote\n",
    "from selenium import webdriver\n"
   ]
  },
  {
   "cell_type": "code",
   "execution_count": 2,
   "metadata": {},
   "outputs": [
    {
     "data": {
      "text/plain": [
       "' IMAGE SCRAPING '"
      ]
     },
     "execution_count": 2,
     "metadata": {},
     "output_type": "execute_result"
    }
   ],
   "source": [
    "# # load key_stats into notebook\n",
    "# key_stats = pd.read_csv(\"raw_data/stats/key_stats.csv\")\n",
    "# # create Real Madrid and Man. United list of players\n",
    "# real_player_list = list(key_stats[key_stats.club == 'Real Madrid'].player_name.unique())\n",
    "# man_player_list = list(key_stats[key_stats.club == 'Man. United'].player_name.unique())\n",
    "\n",
    "# def player_name_list_preprocessing(player_list):\n",
    "#     \"\"\" This function takes a list of player names from kaggle dataset and lowers + replaces spaces by dashes\"\"\"\n",
    "#     preprocessed_list = []\n",
    "#     for player in player_list:\n",
    "#         player = player.lower()\n",
    "#         player = player.replace(\" \", \"-\")\n",
    "#         preprocessed_list.append(player)\n",
    "#     return preprocessed_list\n",
    "\n",
    "\n",
    "def download_images(player_name):\n",
    "    # Create a directory to save the images\n",
    "    player_folder_path = f\"./raw_data/faces/{player_name}\"\n",
    "    os.makedirs(player_folder_path, exist_ok=True)\n",
    "\n",
    "    # Define the URL for Getty Images\n",
    "    encoded_player_name = quote(player_name)\n",
    "    url = f\"https://www.gettyimages.be/photos/{encoded_player_name}?assettype=image&compositions=headshot&family=editorial&numberofpeople=one&sort=best\"\n",
    "\n",
    "    # Configure the Chrome driver (Make sure you have the correct chromedriver installed)\n",
    "    driver = webdriver.Chrome()\n",
    "\n",
    "    try:\n",
    "        # Access the URL\n",
    "        driver.get(url)\n",
    "        time.sleep(5)  # Allow time for the page to load\n",
    "\n",
    "        # Extract image URLs\n",
    "        image_elements = driver.find_elements(\"xpath\", '//img[contains(@src, \"https://media.gettyimages.com\")]')\n",
    "\n",
    "        # Download and save 30 images\n",
    "        count = 0\n",
    "        for img in image_elements:\n",
    "            img_url = img.get_attribute(\"src\")\n",
    "            img_data = requests.get(img_url).content\n",
    "            with open(f\"{player_folder_path}/{player_name}_{count}.jpg\", \"wb\") as handler:\n",
    "                handler.write(img_data)\n",
    "            count += 1\n",
    "            if count == 30:\n",
    "                break\n",
    "\n",
    "        print(f\"Downloaded {count} images of {player_name} from Getty Images.\")\n",
    "\n",
    "    except Exception as e:\n",
    "        print(f\"Failed to retrieve images of {player_name} from Getty Images. Error: {e}\")\n",
    "\n",
    "    finally:\n",
    "        # Close the browser\n",
    "        driver.quit()\n",
    "\n",
    "\n",
    "\n",
    "\"\"\" IMAGE SCRAPING \"\"\"\n",
    "\n",
    "# # import key_stats file\n",
    "# key_stats = pd.read_csv(\"raw_data/stats/key_stats.csv\")\n",
    "\n",
    "# # create dictionary of team_names keys and player_name values\n",
    "# team_names = ['Real Madrid', 'Liverpool', 'Man. United', 'Villareal', 'Benfica', 'Bayern', 'Atlético', 'Chelsea']\n",
    "# team_players_dict = {}\n",
    "# for team_name in team_names:\n",
    "#     team_players_dict[team_name] = list(key_stats[key_stats.club == team_name].player_name.unique())\n",
    "\n",
    "# for team, players in team_players_dict.items():\n",
    "#     for player in players:\n",
    "#         download_images(player + ' ' + team)\n"
   ]
  },
  {
   "cell_type": "code",
   "execution_count": 5,
   "metadata": {},
   "outputs": [],
   "source": [
    "def download_images():\n",
    "    # Create a directory to save the images\n",
    "    player_folder_path = f\"./raw_data/faces/sadio_mané_liverpool\"\n",
    "    os.makedirs(player_folder_path, exist_ok=True)\n",
    "\n",
    "    # Define the URL for Getty Images\n",
    "    # encoded_player_name = quote(player_name)\n",
    "    url = f\"https://www.gettyimages.be/photos/mo-salah?assettype=image&events=775809427&family=editorial&phrase=mo%20salah&sort=best&compositions=headshot\"\n",
    "\n",
    "    # Configure the Chrome driver (Make sure you have the correct chromedriver installed)\n",
    "    driver = webdriver.Chrome()\n",
    "\n",
    "    try:\n",
    "        # Access the URL\n",
    "        driver.get(url)\n",
    "        time.sleep(5)  # Allow time for the page to load\n",
    "\n",
    "        # Extract image URLs\n",
    "        image_elements = driver.find_elements(\"xpath\", '//img[contains(@src, \"https://media.gettyimages.com\")]')\n",
    "\n",
    "        # Download and save 30 images\n",
    "        count = 0\n",
    "        for img in image_elements:\n",
    "            img_url = img.get_attribute(\"src\")\n",
    "            img_data = requests.get(img_url).content\n",
    "            with open(f\"{player_folder_path}/mo_salah_liverpool_{count}.jpg\", \"wb\") as handler:\n",
    "                handler.write(img_data)\n",
    "            count += 1\n",
    "            if count == 30:\n",
    "                break\n",
    "\n",
    "        print(f\"Downloaded {count} images of sadio_mané_liverpool from Getty Images.\")\n",
    "\n",
    "    except Exception as e:\n",
    "        print(f\"Failed to retrieve images of mo_salah_liverpoolfrom Getty Images. Error: {e}\")\n",
    "\n",
    "    finally:\n",
    "        # Close the browser\n",
    "        driver.quit()\n"
   ]
  },
  {
   "cell_type": "code",
   "execution_count": 6,
   "metadata": {},
   "outputs": [
    {
     "name": "stdout",
     "output_type": "stream",
     "text": [
      "Downloaded 30 images of sadio_mané_liverpool from Getty Images.\n"
     ]
    }
   ],
   "source": [
    "download_images()\n"
   ]
  }
 ],
 "metadata": {
  "kernelspec": {
   "display_name": "dynamic-players-insights",
   "language": "python",
   "name": "python3"
  },
  "language_info": {
   "codemirror_mode": {
    "name": "ipython",
    "version": 3
   },
   "file_extension": ".py",
   "mimetype": "text/x-python",
   "name": "python",
   "nbconvert_exporter": "python",
   "pygments_lexer": "ipython3",
   "version": "3.10.6"
  }
 },
 "nbformat": 4,
 "nbformat_minor": 2
}
